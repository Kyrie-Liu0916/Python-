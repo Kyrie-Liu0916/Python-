{
 "cells": [
  {
   "cell_type": "markdown",
   "metadata": {},
   "source": [
    "# 条件语句"
   ]
  },
  {
   "cell_type": "code",
   "execution_count": 4,
   "metadata": {
    "scrolled": true
   },
   "outputs": [
    {
     "name": "stdout",
     "output_type": "stream",
     "text": [
      "请输入年龄18\n",
      "可以上网\n"
     ]
    }
   ],
   "source": [
    "age = int(input('请输入年龄'))\n",
    "if age >= 18:\n",
    "    print('可以上网')\n",
    "else:\n",
    "    print('不可以')"
   ]
  },
  {
   "cell_type": "code",
   "execution_count": 6,
   "metadata": {
    "scrolled": true
   },
   "outputs": [
    {
     "name": "stdout",
     "output_type": "stream",
     "text": [
      "请输入年龄：55\n",
      "年龄是55, 合法\n"
     ]
    }
   ],
   "source": [
    "age = int(input('请输入年龄：'))\n",
    "if age < 18:\n",
    "    print(f'年龄是{age}, 不合法')\n",
    "elif (age >= 18) and (age <= 60): # 等于 18 <= age <= 60\n",
    "    print(f'年龄是{age}, 合法')\n",
    "else:\n",
    "    print(f'年龄是{age}, 退休年龄 不合法')"
   ]
  },
  {
   "cell_type": "markdown",
   "metadata": {},
   "source": [
    "### if嵌套"
   ]
  },
  {
   "cell_type": "code",
   "execution_count": 12,
   "metadata": {},
   "outputs": [
    {
     "name": "stdout",
     "output_type": "stream",
     "text": [
      "土豪请上车\n",
      "坐下吧\n"
     ]
    }
   ],
   "source": [
    "money = 1\n",
    "seat = 1\n",
    "if money == 1:\n",
    "    print('土豪请上车')\n",
    "    if seat == 1:\n",
    "        print('坐下吧')\n",
    "    else:\n",
    "        print('没座站着等')\n",
    "else:\n",
    "    print('没钱跟着跑')"
   ]
  },
  {
   "cell_type": "markdown",
   "metadata": {},
   "source": [
    "### 猜拳游戏"
   ]
  },
  {
   "cell_type": "code",
   "execution_count": 29,
   "metadata": {},
   "outputs": [
    {
     "name": "stdout",
     "output_type": "stream",
     "text": [
      "请出拳：0--石头，1--剪刀，2--布0\n",
      "1\n",
      "玩家胜利\n"
     ]
    }
   ],
   "source": [
    "import random\n",
    "#出拳\n",
    "player = int(input('请出拳：0--石头，1--剪刀，2--布'))\n",
    "computer = random.randint(0, 2)\n",
    "print(computer)\n",
    "#判断胜负\n",
    "if ((player == 0) and (computer == 1)) or ((player == 1) and (computer == 2)) or ((player == 2) and (computer == 0)):\n",
    "    print('玩家胜利')\n",
    "elif player == computer:\n",
    "    print('平局别走，再来一局')\n",
    "else:\n",
    "    print('电脑获胜')"
   ]
  },
  {
   "cell_type": "markdown",
   "metadata": {},
   "source": [
    "### 三目运算符"
   ]
  },
  {
   "cell_type": "code",
   "execution_count": 32,
   "metadata": {},
   "outputs": [
    {
     "name": "stdout",
     "output_type": "stream",
     "text": [
      "58\n"
     ]
    }
   ],
   "source": [
    "# 大变量减小\n",
    "a = 8\n",
    "b = 66\n",
    "c = a - b if a > b else b - a\n",
    "print(c)"
   ]
  },
  {
   "cell_type": "code",
   "execution_count": null,
   "metadata": {},
   "outputs": [],
   "source": []
  }
 ],
 "metadata": {
  "kernelspec": {
   "display_name": "Python 3",
   "language": "python",
   "name": "python3"
  },
  "language_info": {
   "codemirror_mode": {
    "name": "ipython",
    "version": 3
   },
   "file_extension": ".py",
   "mimetype": "text/x-python",
   "name": "python",
   "nbconvert_exporter": "python",
   "pygments_lexer": "ipython3",
   "version": "3.7.3"
  }
 },
 "nbformat": 4,
 "nbformat_minor": 2
}
