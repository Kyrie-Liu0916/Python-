{
 "cells": [
  {
   "cell_type": "markdown",
   "metadata": {
    "colab_type": "text",
    "id": "0w6WAvONBz29"
   },
   "source": [
    "# Python学习笔记"
   ]
  },
  {
   "cell_type": "markdown",
   "metadata": {
    "colab_type": "text",
    "id": "8yXn1RB6CAIE"
   },
   "source": [
    "## 格式化输出"
   ]
  },
  {
   "cell_type": "markdown",
   "metadata": {
    "colab_type": "text",
    "id": "QiE7MZXBCLVq"
   },
   "source": [
    "  1. %s -- 字符串(什么都可以用%s)\n",
    "  2. %f -- 浮点数\n",
    "  3. %d -- 有符号的十进制整数\n",
    "  4. %03d -- 不足以0补全， 超出当前位数则原样输出"
   ]
  },
  {
   "cell_type": "code",
   "execution_count": 3,
   "metadata": {
    "colab": {
     "base_uri": "https://localhost:8080/",
     "height": 68
    },
    "colab_type": "code",
    "id": "QnEjRbSWCDzj",
    "outputId": "0de9d7f5-77df-4a6c-80d5-1dc7e7179d56"
   },
   "outputs": [
    {
     "name": "stdout",
     "output_type": "stream",
     "text": [
      "年龄是18岁\n",
      "My name is TOM\n",
      "weight is 75.50\n"
     ]
    }
   ],
   "source": [
    "age = 18\n",
    "name = 'TOM'\n",
    "weight = 75.5\n",
    "stu_id = 1\n",
    "print('年龄是%d岁' % age)\n",
    "print('My name is %s' % name)\n",
    "print('weight is %.2f' % weight)"
   ]
  },
  {
   "cell_type": "code",
   "execution_count": 4,
   "metadata": {
    "colab": {
     "base_uri": "https://localhost:8080/",
     "height": 51
    },
    "colab_type": "code",
    "id": "xH7x9IUSDnLc",
    "outputId": "456a8b4a-73da-4d02-f093-0945fe375381"
   },
   "outputs": [
    {
     "name": "stdout",
     "output_type": "stream",
     "text": [
      "学号是001\n",
      "名字是TOM, 明年是19岁,体重是75.50,学号是001\n"
     ]
    }
   ],
   "source": [
    "print('学号是%03d' % stu_id)\n",
    "print('名字是%s, 明年是%d岁,体重是%.2f,学号是%03d' % (name,age + 1,weight,stu_id))"
   ]
  },
  {
   "cell_type": "code",
   "execution_count": 5,
   "metadata": {},
   "outputs": [
    {
     "name": "stdout",
     "output_type": "stream",
     "text": [
      "名字是TOM, 明年是19岁,体重是75.5,学号是1\n"
     ]
    }
   ],
   "source": [
    "print('名字是%s, 明年是%s岁,体重是%s,学号是%s' % (name,age + 1,weight,stu_id))"
   ]
  },
  {
   "cell_type": "markdown",
   "metadata": {},
   "source": [
    "### f 格式化输出 f'{}'"
   ]
  },
  {
   "cell_type": "code",
   "execution_count": 8,
   "metadata": {},
   "outputs": [
    {
     "name": "stdout",
     "output_type": "stream",
     "text": [
      "名字是TOM, 明年是19岁,体重是75.5,学号是1\n"
     ]
    }
   ],
   "source": [
    "print(f'名字是{name}, 明年是{age+1}岁,体重是{weight},学号是{stu_id}')"
   ]
  },
  {
   "cell_type": "markdown",
   "metadata": {},
   "source": [
    "### 转义符 \\n换行\\t 缩进"
   ]
  },
  {
   "cell_type": "code",
   "execution_count": 11,
   "metadata": {},
   "outputs": [
    {
     "name": "stdout",
     "output_type": "stream",
     "text": [
      "\tHello\n",
      "World\n"
     ]
    }
   ],
   "source": [
    "print('\\tHello\\nWorld')"
   ]
  },
  {
   "cell_type": "markdown",
   "metadata": {},
   "source": [
    "### print('something', end = \"\\n\") print默认结束符为\\n换行，可以写其他任何"
   ]
  },
  {
   "cell_type": "code",
   "execution_count": 15,
   "metadata": {},
   "outputs": [
    {
     "name": "stdout",
     "output_type": "stream",
     "text": [
      "Hello\n",
      "World\tHello...???Python\n"
     ]
    }
   ],
   "source": [
    "print('Hello', end = \"\\n\")\n",
    "print('World', end = \"\\t\")\n",
    "print('Hello', end = \"...???\")\n",
    "print('Python')"
   ]
  },
  {
   "cell_type": "code",
   "execution_count": null,
   "metadata": {},
   "outputs": [],
   "source": []
  }
 ],
 "metadata": {
  "colab": {
   "name": "practice.ipynb",
   "provenance": []
  },
  "kernelspec": {
   "display_name": "Python 3",
   "language": "python",
   "name": "python3"
  },
  "language_info": {
   "codemirror_mode": {
    "name": "ipython",
    "version": 3
   },
   "file_extension": ".py",
   "mimetype": "text/x-python",
   "name": "python",
   "nbconvert_exporter": "python",
   "pygments_lexer": "ipython3",
   "version": "3.7.3"
  }
 },
 "nbformat": 4,
 "nbformat_minor": 1
}
