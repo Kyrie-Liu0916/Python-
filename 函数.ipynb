{
 "cells": [
  {
   "cell_type": "markdown",
   "metadata": {},
   "source": [
    "# 函数"
   ]
  },
  {
   "cell_type": "code",
   "execution_count": 1,
   "metadata": {},
   "outputs": [
    {
     "name": "stdout",
     "output_type": "stream",
     "text": [
      "恭喜登陆成功\n",
      "显示余额\n",
      "取款\n",
      "存款\n",
      "余额为100000000\n",
      "显示余额\n",
      "取款\n",
      "存款\n",
      "取款成功100\n",
      "显示余额\n",
      "取款\n",
      "存款\n"
     ]
    }
   ],
   "source": [
    "#确定功能界面\n",
    "def self_func():\n",
    "    print('显示余额')\n",
    "    print('取款')\n",
    "    print('存款')\n",
    "\n",
    "\n",
    "\n",
    "print('恭喜登陆成功')\n",
    "#显示功能界面\n",
    "self_func()\n",
    "print('余额为100000000')\n",
    "#显示功能界面\n",
    "self_func()\n",
    "print('取款成功100')\n",
    "#显示功能界面\n",
    "self_func()\n"
   ]
  },
  {
   "cell_type": "code",
   "execution_count": 9,
   "metadata": {},
   "outputs": [
    {
     "name": "stdout",
     "output_type": "stream",
     "text": [
      "30\n"
     ]
    }
   ],
   "source": [
    "def add_num(a,b):\n",
    "    result = a + b\n",
    "    print(result)\n",
    "add_num(10,20)\n",
    "#a和b为形参 10和20为实参"
   ]
  },
  {
   "cell_type": "code",
   "execution_count": 10,
   "metadata": {},
   "outputs": [
    {
     "name": "stdout",
     "output_type": "stream",
     "text": [
      "yan\n"
     ]
    }
   ],
   "source": [
    "#返回值\n",
    "def buy():\n",
    "    return 'yan'\n",
    "goods = buy()\n",
    "print(goods)"
   ]
  },
  {
   "cell_type": "code",
   "execution_count": 12,
   "metadata": {},
   "outputs": [
    {
     "name": "stdout",
     "output_type": "stream",
     "text": [
      "30\n"
     ]
    }
   ],
   "source": [
    "def add_num(a,b):\n",
    "    return a + b\n",
    "print(add_num(10,20))"
   ]
  },
  {
   "cell_type": "markdown",
   "metadata": {},
   "source": [
    "### 说明文档"
   ]
  },
  {
   "cell_type": "code",
   "execution_count": 1,
   "metadata": {},
   "outputs": [
    {
     "name": "stdout",
     "output_type": "stream",
     "text": [
      "Help on function add_num in module __main__:\n",
      "\n",
      "add_num(a, b)\n",
      "    求和函数\n",
      "\n"
     ]
    }
   ],
   "source": [
    "#help 查看函数说明文档\n",
    "def add_num(a,b):# 在第一行写说明文档\n",
    "    \"\"\"求和函数\"\"\"\n",
    "    return a + b\n",
    "help(add_num)"
   ]
  },
  {
   "cell_type": "markdown",
   "metadata": {},
   "source": [
    "### 函数嵌套"
   ]
  },
  {
   "cell_type": "code",
   "execution_count": 3,
   "metadata": {},
   "outputs": [
    {
     "name": "stdout",
     "output_type": "stream",
     "text": [
      "-----\n",
      "-----\n",
      "B函数\n",
      "-----\n",
      "-----\n"
     ]
    }
   ],
   "source": [
    "def testb():\n",
    "    print('-----')\n",
    "    print('B函数')\n",
    "    print('-----')\n",
    "def testa():\n",
    "    print('-----')\n",
    "    testb()\n",
    "    print('-----')\n",
    "    \n",
    "testa()"
   ]
  },
  {
   "cell_type": "markdown",
   "metadata": {},
   "source": [
    "### 打印图形"
   ]
  },
  {
   "cell_type": "code",
   "execution_count": 13,
   "metadata": {},
   "outputs": [
    {
     "name": "stdout",
     "output_type": "stream",
     "text": [
      "--------------------\n"
     ]
    }
   ],
   "source": [
    "def print_line():\n",
    "    print('-' * 20)\n",
    "print_line()"
   ]
  },
  {
   "cell_type": "code",
   "execution_count": 14,
   "metadata": {},
   "outputs": [
    {
     "name": "stdout",
     "output_type": "stream",
     "text": [
      "--------------------\n",
      "--------------------\n",
      "--------------------\n",
      "--------------------\n",
      "--------------------\n"
     ]
    }
   ],
   "source": [
    "def print_lines(num):\n",
    "    i = 0\n",
    "    while i < num:\n",
    "        print_line()\n",
    "        i += 1\n",
    "print_lines(5)"
   ]
  },
  {
   "cell_type": "code",
   "execution_count": 15,
   "metadata": {},
   "outputs": [
    {
     "data": {
      "text/plain": [
       "6"
      ]
     },
     "execution_count": 15,
     "metadata": {},
     "output_type": "execute_result"
    }
   ],
   "source": [
    "def sum_num(a,b,c):\n",
    "    return a+b+c\n",
    "sum_num(1,2,3)"
   ]
  },
  {
   "cell_type": "code",
   "execution_count": 17,
   "metadata": {},
   "outputs": [
    {
     "name": "stdout",
     "output_type": "stream",
     "text": [
      "2.0\n"
     ]
    }
   ],
   "source": [
    "def avg_num(a,b,c):\n",
    "    return sum_num(a,b,c)/3\n",
    "print(avg_num(1,2,3))"
   ]
  },
  {
   "cell_type": "code",
   "execution_count": 20,
   "metadata": {},
   "outputs": [
    {
     "name": "stdout",
     "output_type": "stream",
     "text": [
      "100\n",
      "200\n"
     ]
    }
   ],
   "source": [
    "a = 100\n",
    "print(a)\n",
    "#在函数中调用global修改全局变量\n",
    "def fun():\n",
    "    global a \n",
    "    a = 200\n",
    "fun()\n",
    "print(a)"
   ]
  },
  {
   "cell_type": "code",
   "execution_count": 25,
   "metadata": {},
   "outputs": [
    {
     "name": "stdout",
     "output_type": "stream",
     "text": [
      "0\n"
     ]
    }
   ],
   "source": [
    "a = 0\n",
    "def oi():\n",
    "    global a\n",
    "    a = 100\n",
    "def ou():\n",
    "    print(a)\n",
    "ou()"
   ]
  },
  {
   "cell_type": "markdown",
   "metadata": {},
   "source": [
    "### 参数传递"
   ]
  },
  {
   "cell_type": "code",
   "execution_count": 26,
   "metadata": {},
   "outputs": [
    {
     "name": "stdout",
     "output_type": "stream",
     "text": [
      "50\n"
     ]
    }
   ],
   "source": [
    "def test1():\n",
    "    return 50\n",
    "def test2(num):\n",
    "    print(num)\n",
    "result = test1()\n",
    "test2(result)"
   ]
  },
  {
   "cell_type": "markdown",
   "metadata": {},
   "source": [
    "### 多个返回值"
   ]
  },
  {
   "cell_type": "code",
   "execution_count": 31,
   "metadata": {},
   "outputs": [
    {
     "name": "stdout",
     "output_type": "stream",
     "text": [
      "(100, 200)\n",
      "100\n",
      "200\n"
     ]
    }
   ],
   "source": [
    "def re_num():\n",
    "    return (100,200)\n",
    "result = re_num()\n",
    "result1,result2 = re_num()\n",
    "print(result)\n",
    "print(result1)\n",
    "print(result2)"
   ]
  },
  {
   "cell_type": "markdown",
   "metadata": {},
   "source": [
    "### 位置参数"
   ]
  },
  {
   "cell_type": "code",
   "execution_count": 35,
   "metadata": {},
   "outputs": [
    {
     "name": "stdout",
     "output_type": "stream",
     "text": [
      "名字是Tom，年龄20，性别man\n"
     ]
    }
   ],
   "source": [
    "def user_info(name,age,gender):\n",
    "    print(f'名字是{name}，年龄{age}，性别{gender}')\n",
    "user_info('Tom',20,'man')"
   ]
  },
  {
   "cell_type": "markdown",
   "metadata": {},
   "source": [
    "### 关键字参数"
   ]
  },
  {
   "cell_type": "code",
   "execution_count": 37,
   "metadata": {},
   "outputs": [
    {
     "name": "stdout",
     "output_type": "stream",
     "text": [
      "名字是Tom，年龄20，性别man\n"
     ]
    }
   ],
   "source": [
    "def user_info(name,age,gender):\n",
    "    print(f'名字是{name}，年龄{age}，性别{gender}')\n",
    "user_info('Tom',gender = 'man',age = 20)# 位置参数必须在关键字参数之前"
   ]
  },
  {
   "cell_type": "markdown",
   "metadata": {},
   "source": [
    "### 缺省参数"
   ]
  },
  {
   "cell_type": "code",
   "execution_count": 58,
   "metadata": {},
   "outputs": [
    {
     "name": "stdout",
     "output_type": "stream",
     "text": [
      "名字是Tom，年龄30，性别woman\n",
      "名字是Tom，年龄30，性别man\n"
     ]
    }
   ],
   "source": [
    "def user_info(name,age = 20,gender = 'man'):\n",
    "    print(f'名字是{name}，年龄{age}，性别{gender}')\n",
    "user_info(name = 'Tom',gender = 'woman',age = 30)\n",
    "user_info('Tom',age = 30)"
   ]
  },
  {
   "cell_type": "markdown",
   "metadata": {},
   "source": [
    "### 不定长参数"
   ]
  },
  {
   "cell_type": "code",
   "execution_count": 61,
   "metadata": {},
   "outputs": [
    {
     "name": "stdout",
     "output_type": "stream",
     "text": [
      "('Tom',)\n",
      "('Tom', 18)\n"
     ]
    }
   ],
   "source": [
    "def user_info(*args): #接收不定长参数，args是元组，包裹位置传递\n",
    "    print(args)\n",
    "user_info('Tom')\n",
    "user_info('Tom',18)"
   ]
  },
  {
   "cell_type": "code",
   "execution_count": 63,
   "metadata": {},
   "outputs": [
    {
     "name": "stdout",
     "output_type": "stream",
     "text": [
      "{'name': 'Tom', 'gender': 'woman', 'age': 30}\n"
     ]
    }
   ],
   "source": [
    "# 包裹关键字传递\n",
    "def user_info(**kwargs): #返回字典\n",
    "    print(kwargs)\n",
    "user_info(name = 'Tom',gender = 'woman',age = 30)"
   ]
  },
  {
   "cell_type": "code",
   "execution_count": 79,
   "metadata": {},
   "outputs": [
    {
     "name": "stdout",
     "output_type": "stream",
     "text": [
      "name\n",
      "age\n",
      "Tom\n",
      "20\n"
     ]
    }
   ],
   "source": [
    "dict1 = {'name' : 'Tom','age' : 20}\n",
    "a,b = dict1\n",
    "print(a)\n",
    "print(b)\n",
    "print(dict1[a])\n",
    "print(dict1[b])"
   ]
  },
  {
   "cell_type": "markdown",
   "metadata": {},
   "source": [
    "### 交换变量值"
   ]
  },
  {
   "cell_type": "code",
   "execution_count": 80,
   "metadata": {},
   "outputs": [
    {
     "name": "stdout",
     "output_type": "stream",
     "text": [
      "20 10\n"
     ]
    }
   ],
   "source": [
    "a = 10\n",
    "b = 20\n",
    "c = 0\n",
    "c = a\n",
    "a = b\n",
    "b = c\n",
    "print(a,b)"
   ]
  },
  {
   "cell_type": "code",
   "execution_count": 81,
   "metadata": {},
   "outputs": [
    {
     "name": "stdout",
     "output_type": "stream",
     "text": [
      "20 10\n"
     ]
    }
   ],
   "source": [
    "a = 10\n",
    "b = 20\n",
    "a,b = b,a\n",
    "print(a,b)"
   ]
  },
  {
   "cell_type": "markdown",
   "metadata": {},
   "source": [
    "## 引用"
   ]
  },
  {
   "cell_type": "code",
   "execution_count": 105,
   "metadata": {},
   "outputs": [
    {
     "name": "stdout",
     "output_type": "stream",
     "text": [
      "10\n",
      "4326672064\n",
      "4326672064\n",
      "10\n",
      "4326671808\n",
      "4326672064\n"
     ]
    }
   ],
   "source": [
    "#用id判断变量是否为同一个值的引用\n",
    "a = 10\n",
    "b = a\n",
    "print(b)\n",
    "print(id(a))\n",
    "print(id(b))\n",
    "# 修改了a的数据，所以内存开辟了另外的空间，int为不可变类型\n",
    "a = 2\n",
    "print(b)\n",
    "print(id(a))\n",
    "print(id(b))"
   ]
  },
  {
   "cell_type": "code",
   "execution_count": 106,
   "metadata": {},
   "outputs": [
    {
     "name": "stdout",
     "output_type": "stream",
     "text": [
      "4366527304\n",
      "4366527304\n",
      "[10, 20, 30]\n",
      "4366527304\n",
      "4366527304\n"
     ]
    }
   ],
   "source": [
    "aa = [10,20]\n",
    "bb = aa\n",
    "print(id(aa))\n",
    "print(id(bb))\n",
    "aa.append(30)\n",
    "print(bb)\n",
    "print(id(aa))\n",
    "print(id(bb))"
   ]
  },
  {
   "cell_type": "markdown",
   "metadata": {},
   "source": [
    "### 用引用当作实参"
   ]
  },
  {
   "cell_type": "code",
   "execution_count": 107,
   "metadata": {},
   "outputs": [
    {
     "name": "stdout",
     "output_type": "stream",
     "text": [
      "2\n",
      "4326671808\n",
      "4\n",
      "4326671872\n",
      "[10, 20]\n",
      "4366527048\n",
      "[10, 20, 10, 20]\n",
      "4366527048\n"
     ]
    }
   ],
   "source": [
    "def test1(a):\n",
    "    print(a)\n",
    "    print(id(a))\n",
    "    a += a\n",
    "    print(a)\n",
    "    print(id(a))\n",
    "b = 2\n",
    "test1(b)\n",
    "\n",
    "c = [10,20]\n",
    "test1(c)"
   ]
  },
  {
   "cell_type": "markdown",
   "metadata": {},
   "source": [
    "### 不可变类型：\n",
    "1. 整型\n",
    "2. 浮点型\n",
    "3. 字符串\n",
    "4. 元组\n",
    "### 可变类型\n",
    "1. 列表\n",
    "2. 字典\n",
    "3. 集合"
   ]
  },
  {
   "cell_type": "code",
   "execution_count": null,
   "metadata": {},
   "outputs": [],
   "source": []
  }
 ],
 "metadata": {
  "kernelspec": {
   "display_name": "Python 3",
   "language": "python",
   "name": "python3"
  },
  "language_info": {
   "codemirror_mode": {
    "name": "ipython",
    "version": 3
   },
   "file_extension": ".py",
   "mimetype": "text/x-python",
   "name": "python",
   "nbconvert_exporter": "python",
   "pygments_lexer": "ipython3",
   "version": "3.7.3"
  }
 },
 "nbformat": 4,
 "nbformat_minor": 2
}
