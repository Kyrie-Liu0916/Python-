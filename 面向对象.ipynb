{
 "cells": [
  {
   "cell_type": "markdown",
   "metadata": {},
   "source": [
    "# 面向对象"
   ]
  },
  {
   "cell_type": "markdown",
   "metadata": {},
   "source": [
    "### 用类创建对象"
   ]
  },
  {
   "cell_type": "code",
   "execution_count": 1,
   "metadata": {},
   "outputs": [
    {
     "name": "stdout",
     "output_type": "stream",
     "text": [
      "<__main__.Washer object at 0x11202be80>\n",
      "能洗衣服\n"
     ]
    }
   ],
   "source": [
    "# 定义洗衣机类\n",
    "class Washer():\n",
    "    def Wash(self):\n",
    "        print('能洗衣服')\n",
    "#创建对象\n",
    "haier = Washer()\n",
    "print(haier)\n",
    "#使用wash功能(对象名.Wash())\n",
    "haier.Wash()\n",
    "\n"
   ]
  },
  {
   "cell_type": "markdown",
   "metadata": {},
   "source": [
    "### self（指调用该函数的对象）"
   ]
  },
  {
   "cell_type": "code",
   "execution_count": 2,
   "metadata": {},
   "outputs": [
    {
     "name": "stdout",
     "output_type": "stream",
     "text": [
      "<__main__.Washer object at 0x1120576a0>\n",
      "能洗衣服\n",
      "<__main__.Washer object at 0x1120576a0>\n",
      "<__main__.Washer object at 0x1120576d8>\n",
      "能洗衣服\n",
      "<__main__.Washer object at 0x1120576d8>\n"
     ]
    }
   ],
   "source": [
    "class Washer():\n",
    "    def Wash(self):\n",
    "        print('能洗衣服')\n",
    "        print(self)\n",
    "haier1 = Washer()\n",
    "print(haier1)\n",
    "haier1.Wash()\n",
    "haier2 = Washer()\n",
    "print(haier2)\n",
    "haier2.Wash()"
   ]
  },
  {
   "cell_type": "markdown",
   "metadata": {},
   "source": [
    "### 类的外面添加属性"
   ]
  },
  {
   "cell_type": "code",
   "execution_count": 3,
   "metadata": {},
   "outputs": [],
   "source": [
    "class Washer():\n",
    "    def Wash(self):\n",
    "        print('能洗衣服')\n",
    "        print(self)\n",
    "haier1 = Washer()\n",
    "haier1.width = 500\n",
    "haier1.height = 800\n"
   ]
  },
  {
   "cell_type": "code",
   "execution_count": 4,
   "metadata": {},
   "outputs": [
    {
     "name": "stdout",
     "output_type": "stream",
     "text": [
      "500\n",
      "800\n"
     ]
    }
   ],
   "source": [
    "print(haier1.width)\n",
    "print(haier1.height)"
   ]
  },
  {
   "cell_type": "markdown",
   "metadata": {},
   "source": [
    "### 类的里面获取对象属性"
   ]
  },
  {
   "cell_type": "code",
   "execution_count": 5,
   "metadata": {},
   "outputs": [
    {
     "name": "stdout",
     "output_type": "stream",
     "text": [
      "宽度500\n",
      "高度800\n"
     ]
    }
   ],
   "source": [
    "class Washer():\n",
    "    def print_info(self):\n",
    "        print(f'宽度{self.width}')\n",
    "        print(f'高度{self.height}')\n",
    "haier1 = Washer()\n",
    "haier1.width = 500\n",
    "haier1.height = 800\n",
    "haier1.print_info()"
   ]
  },
  {
   "cell_type": "markdown",
   "metadata": {},
   "source": [
    "## 魔法方法"
   ]
  },
  {
   "cell_type": "code",
   "execution_count": 6,
   "metadata": {},
   "outputs": [],
   "source": [
    "#__xx__())叫做魔法方法，指具有特殊功能的函数"
   ]
  },
  {
   "cell_type": "code",
   "execution_count": 7,
   "metadata": {},
   "outputs": [
    {
     "name": "stdout",
     "output_type": "stream",
     "text": [
      "宽度500\n",
      "高度800\n"
     ]
    }
   ],
   "source": [
    "# __init__(): 初始化对象\n",
    "class Washer():\n",
    "    def __init__(self):\n",
    "        self.width = 500\n",
    "        self.height = 800\n",
    "    def print_info(self):\n",
    "        print(f'宽度{self.width}')\n",
    "        print(f'高度{self.height}')\n",
    "haier1 = Washer()\n",
    "haier1.print_info()"
   ]
  },
  {
   "cell_type": "code",
   "execution_count": 9,
   "metadata": {},
   "outputs": [
    {
     "name": "stdout",
     "output_type": "stream",
     "text": [
      "宽度10\n",
      "高度20\n",
      "宽度30\n",
      "高度40\n"
     ]
    }
   ],
   "source": [
    "class Washer():\n",
    "    def __init__(self, width, height):\n",
    "        self.width = width\n",
    "        self.height = height\n",
    "    def print_info(self):\n",
    "        print(f'宽度{self.width}')\n",
    "        print(f'高度{self.height}')\n",
    "haier1 = Washer(10, 20)\n",
    "haier1.print_info()\n",
    "haier2 = Washer(30, 40)\n",
    "haier2.print_info()\n",
    "        "
   ]
  },
  {
   "cell_type": "code",
   "execution_count": 10,
   "metadata": {},
   "outputs": [
    {
     "name": "stdout",
     "output_type": "stream",
     "text": [
      "洗衣机说明书\n"
     ]
    }
   ],
   "source": [
    "# __str__(): 当使用print时，默认打印对象内存地址，定义str方法，会打印方法中return数据\n",
    "class Washer():\n",
    "    def __init__(self, width, height):\n",
    "        self.width = width\n",
    "        self.height = height\n",
    "    def __str__(self):\n",
    "        return '洗衣机说明书'\n",
    "haier1 = Washer(30,50)\n",
    "print(haier1)"
   ]
  },
  {
   "cell_type": "code",
   "execution_count": 15,
   "metadata": {},
   "outputs": [
    {
     "name": "stdout",
     "output_type": "stream",
     "text": [
      "对象被删除\n"
     ]
    }
   ],
   "source": [
    "# __del__(): 删除对象时，python解释器自动调用del方法\n",
    "class Washer():\n",
    "    def __init__(self, width, height):\n",
    "        self.width = width\n",
    "        self.height = height\n",
    "    def __del__(self):\n",
    "        print(\"对象被删除\")\n",
    "haier1 = Washer(30,50)\n"
   ]
  },
  {
   "cell_type": "code",
   "execution_count": null,
   "metadata": {},
   "outputs": [],
   "source": []
  }
 ],
 "metadata": {
  "kernelspec": {
   "display_name": "Python 3",
   "language": "python",
   "name": "python3"
  },
  "language_info": {
   "codemirror_mode": {
    "name": "ipython",
    "version": 3
   },
   "file_extension": ".py",
   "mimetype": "text/x-python",
   "name": "python",
   "nbconvert_exporter": "python",
   "pygments_lexer": "ipython3",
   "version": "3.7.3"
  }
 },
 "nbformat": 4,
 "nbformat_minor": 2
}
