{
 "cells": [
  {
   "cell_type": "markdown",
   "metadata": {},
   "source": [
    "# 文件操作"
   ]
  },
  {
   "cell_type": "code",
   "execution_count": 12,
   "metadata": {},
   "outputs": [],
   "source": [
    "f = open('test.txt','w')\n",
    "f.write('aaabb')\n",
    "f.close()"
   ]
  },
  {
   "cell_type": "markdown",
   "metadata": {},
   "source": [
    "### 访问模式\n",
    "1. r ：只读，如果文件不存在 报错 不支持写入\n",
    "2. w ： 只写，如果文件不存在则创建文件，如果执行写入，会覆盖原有内容\n",
    "3. a ： 追加，如果文件不存在则创建文件 在原有内容上追加，无法读取数据（文件指针在结尾）\n",
    "4. 访问模式如果省略，默认为r"
   ]
  },
  {
   "cell_type": "code",
   "execution_count": 15,
   "metadata": {},
   "outputs": [],
   "source": [
    "f = open('test.txt','a')\n",
    "f.write('ccc')\n",
    "f.close()"
   ]
  },
  {
   "cell_type": "markdown",
   "metadata": {},
   "source": [
    "### 读文件"
   ]
  },
  {
   "cell_type": "code",
   "execution_count": 29,
   "metadata": {},
   "outputs": [
    {
     "name": "stdout",
     "output_type": "stream",
     "text": [
      "Hello world\n",
      "!\n"
     ]
    }
   ],
   "source": [
    "f = open('test.txt')\n",
    "# 文件中有换行会默认有\\n占位\n",
    "print(f.read(13))\n",
    "f.close()"
   ]
  },
  {
   "cell_type": "code",
   "execution_count": 32,
   "metadata": {},
   "outputs": [
    {
     "name": "stdout",
     "output_type": "stream",
     "text": [
      "['Hello world\\n', '!!!\\n', 'Oiuyt']\n"
     ]
    }
   ],
   "source": [
    "f = open('test.txt','r')\n",
    "print(f.readlines())# 返回列表\n",
    "f.close()"
   ]
  },
  {
   "cell_type": "code",
   "execution_count": 34,
   "metadata": {},
   "outputs": [
    {
     "name": "stdout",
     "output_type": "stream",
     "text": [
      "Hello world\n",
      "\n",
      "!!!\n",
      "\n"
     ]
    }
   ],
   "source": [
    "f = open('test.txt')\n",
    "print(f.readline())# 每次读取一行数据\n",
    "print(f.readline())\n",
    "f.close()"
   ]
  },
  {
   "cell_type": "markdown",
   "metadata": {},
   "source": [
    "### seek()"
   ]
  },
  {
   "cell_type": "markdown",
   "metadata": {},
   "source": [
    "seek用来移动文件指针"
   ]
  },
  {
   "cell_type": "markdown",
   "metadata": {},
   "source": [
    "文件对象.seek(偏移量，起始位置)\n",
    "起始位置：0: 文件开头，1: 当前位置，2: 文件结尾"
   ]
  },
  {
   "cell_type": "code",
   "execution_count": 37,
   "metadata": {},
   "outputs": [
    {
     "name": "stdout",
     "output_type": "stream",
     "text": [
      "llo world\n",
      "!!!\n",
      "Oiuyt\n"
     ]
    }
   ],
   "source": [
    "f = open('test.txt')\n",
    "f.seek(2,0)\n",
    "print(f.read())\n",
    "f.close()"
   ]
  },
  {
   "cell_type": "code",
   "execution_count": 38,
   "metadata": {},
   "outputs": [
    {
     "name": "stdout",
     "output_type": "stream",
     "text": [
      "\n"
     ]
    }
   ],
   "source": [
    "f = open('test.txt')\n",
    "f.seek(0,2)\n",
    "print(f.read())\n",
    "f.close()"
   ]
  },
  {
   "cell_type": "code",
   "execution_count": 40,
   "metadata": {},
   "outputs": [
    {
     "name": "stdout",
     "output_type": "stream",
     "text": [
      "Hello world\n",
      "!!!\n",
      "Oiuyt\n"
     ]
    }
   ],
   "source": [
    "f = open('test.txt','a+')\n",
    "f.seek(0,0)\n",
    "print(f.read())\n",
    "f.close()"
   ]
  },
  {
   "cell_type": "markdown",
   "metadata": {},
   "source": [
    "### 文件备份"
   ]
  },
  {
   "cell_type": "code",
   "execution_count": 49,
   "metadata": {},
   "outputs": [
    {
     "name": "stdout",
     "output_type": "stream",
     "text": [
      "请输入要备份的文件名：test.txt\n",
      "test.txt\n",
      "4\n",
      "test[备份].txt\n"
     ]
    }
   ],
   "source": [
    "old_name = input('请输入要备份的文件名：')\n",
    "print(old_name)\n",
    "#提取后缀\n",
    "index = old_name.rfind('.')\n",
    "print(index)\n",
    "#添加条件判断,保证有后缀\n",
    "if index > 0:\n",
    "    postfix = old_name[index:]\n",
    "new_name = old_name[:index] + '[备份]' +postfix\n",
    "print(new_name)\n",
    "#打开原文件和新文件\n",
    "old_f = open(old_name,'rb')\n",
    "new_f = open(new_name,'wb')\n",
    "#原文件读取，新文件写入,不确定目标文件大小，循环写入，结束终止循环\n",
    "while True:\n",
    "    con = old_f.read()\n",
    "    if len(con) == 0:\n",
    "        #表示读取完成\n",
    "        break\n",
    "    new_f.write(con)\n",
    "old_f.close()\n",
    "new_f.close()"
   ]
  },
  {
   "cell_type": "markdown",
   "metadata": {},
   "source": [
    "# 文件和文件夹的操作"
   ]
  },
  {
   "cell_type": "code",
   "execution_count": 50,
   "metadata": {},
   "outputs": [],
   "source": [
    "# 导入os模块\n",
    "import os\n",
    "#重命名\n",
    "os.rename('test.txt','test1.txt')"
   ]
  },
  {
   "cell_type": "code",
   "execution_count": 51,
   "metadata": {},
   "outputs": [],
   "source": [
    "os.remove('test[备份].txt')"
   ]
  },
  {
   "cell_type": "code",
   "execution_count": 56,
   "metadata": {},
   "outputs": [],
   "source": [
    "#创建文件夹\n",
    "os.mkdir('aa')\n",
    "#删除文件夹\n",
    "# os.rmdir('aa')"
   ]
  },
  {
   "cell_type": "code",
   "execution_count": 60,
   "metadata": {},
   "outputs": [
    {
     "data": {
      "text/plain": [
       "'/Users/liuchunze/Downloads/aa'"
      ]
     },
     "execution_count": 60,
     "metadata": {},
     "output_type": "execute_result"
    }
   ],
   "source": [
    "#获取当前目录\n",
    "os.getcwd()"
   ]
  },
  {
   "cell_type": "code",
   "execution_count": 65,
   "metadata": {},
   "outputs": [],
   "source": [
    "#改变默认目录\n",
    "os.chdir('aa')\n",
    "os.mkdir('bb')"
   ]
  },
  {
   "cell_type": "code",
   "execution_count": 69,
   "metadata": {
    "scrolled": true
   },
   "outputs": [
    {
     "data": {
      "text/plain": [
       "['.DS_Store', 'bb', 'test2.txt', 'test.txt']"
      ]
     },
     "execution_count": 69,
     "metadata": {},
     "output_type": "execute_result"
    }
   ],
   "source": [
    "#获取目录列表\n",
    "os.listdir()"
   ]
  },
  {
   "cell_type": "code",
   "execution_count": 67,
   "metadata": {},
   "outputs": [],
   "source": [
    "f = open('test.txt','w')\n",
    "f.close()"
   ]
  },
  {
   "cell_type": "code",
   "execution_count": 68,
   "metadata": {},
   "outputs": [],
   "source": [
    "f = open('test2.txt','w')\n",
    "f.close()"
   ]
  },
  {
   "cell_type": "code",
   "execution_count": 72,
   "metadata": {},
   "outputs": [
    {
     "name": "stdout",
     "output_type": "stream",
     "text": [
      "['.DS_Store', 'bb', 'test2.txt', 'Python_Python_test.txt']\n"
     ]
    }
   ],
   "source": [
    "#批量重命名\n",
    "#找到文件\n",
    "f_list = os.listdir()\n",
    "print(f_list)\n",
    "#构造名字\n",
    "for i in f_list:\n",
    "    new_name = 'Python_' + i\n",
    "    os.rename(i,new_name)"
   ]
  },
  {
   "cell_type": "code",
   "execution_count": 78,
   "metadata": {},
   "outputs": [
    {
     "name": "stdout",
     "output_type": "stream",
     "text": [
      "['Python_test2.txt', 'Python_bb', 'Python_Python_Python_test.txt', 'Python_re']\n"
     ]
    }
   ],
   "source": [
    "#批量添加或删除字符串重命名\n",
    "#构造条件数据\n",
    "flag = 2\n",
    "f_list = os.listdir()\n",
    "print(f_list)\n",
    "for i in f_list:\n",
    "    if flag == 1:\n",
    "        new_name = 'Python_' + i\n",
    "    elif flag == 2:\n",
    "        num = len('Python_')\n",
    "        new_name = i[num:]\n",
    "    os.rename(i,new_name)\n",
    "    "
   ]
  },
  {
   "cell_type": "code",
   "execution_count": null,
   "metadata": {},
   "outputs": [],
   "source": []
  }
 ],
 "metadata": {
  "kernelspec": {
   "display_name": "Python 3",
   "language": "python",
   "name": "python3"
  },
  "language_info": {
   "codemirror_mode": {
    "name": "ipython",
    "version": 3
   },
   "file_extension": ".py",
   "mimetype": "text/x-python",
   "name": "python",
   "nbconvert_exporter": "python",
   "pygments_lexer": "ipython3",
   "version": "3.7.3"
  }
 },
 "nbformat": 4,
 "nbformat_minor": 2
}
