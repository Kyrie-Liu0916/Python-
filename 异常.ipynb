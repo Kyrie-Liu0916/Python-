{
 "cells": [
  {
   "cell_type": "markdown",
   "metadata": {},
   "source": [
    "# 异常"
   ]
  },
  {
   "cell_type": "code",
   "execution_count": 1,
   "metadata": {},
   "outputs": [
    {
     "ename": "FileNotFoundError",
     "evalue": "[Errno 2] No such file or directory: 'text.txt'",
     "output_type": "error",
     "traceback": [
      "\u001b[0;31m---------------------------------------------------------------------------\u001b[0m",
      "\u001b[0;31mFileNotFoundError\u001b[0m                         Traceback (most recent call last)",
      "\u001b[0;32m<ipython-input-1-e89bb643c936>\u001b[0m in \u001b[0;36m<module>\u001b[0;34m\u001b[0m\n\u001b[0;32m----> 1\u001b[0;31m \u001b[0mopen\u001b[0m\u001b[0;34m(\u001b[0m\u001b[0;34m'text.txt'\u001b[0m\u001b[0;34m,\u001b[0m \u001b[0;34m'r'\u001b[0m\u001b[0;34m)\u001b[0m\u001b[0;34m\u001b[0m\u001b[0;34m\u001b[0m\u001b[0m\n\u001b[0m",
      "\u001b[0;31mFileNotFoundError\u001b[0m: [Errno 2] No such file or directory: 'text.txt'"
     ]
    }
   ],
   "source": [
    "open('text.txt', 'r')"
   ]
  },
  {
   "cell_type": "code",
   "execution_count": 2,
   "metadata": {},
   "outputs": [
    {
     "name": "stdout",
     "output_type": "stream",
     "text": [
      ".....\n"
     ]
    }
   ],
   "source": [
    "try:\n",
    "    open('text.txt', 'r')\n",
    "except:\n",
    "    print('.....')"
   ]
  },
  {
   "cell_type": "code",
   "execution_count": 3,
   "metadata": {},
   "outputs": [
    {
     "name": "stdout",
     "output_type": "stream",
     "text": [
      "error\n"
     ]
    }
   ],
   "source": [
    "try:\n",
    "    print(num)\n",
    "except NameError: #如果和捕获类型不一致，则无法捕获\n",
    "    print(\"error\")\n",
    "    "
   ]
  },
  {
   "cell_type": "code",
   "execution_count": 4,
   "metadata": {},
   "outputs": [
    {
     "name": "stdout",
     "output_type": "stream",
     "text": [
      "error\n"
     ]
    }
   ],
   "source": [
    "#捕获多个指定异常\n",
    "try:\n",
    "    print(1/0)\n",
    "except (NameError, ZeroDivisionError):\n",
    "    print('error')\n",
    "    "
   ]
  },
  {
   "cell_type": "code",
   "execution_count": 5,
   "metadata": {},
   "outputs": [
    {
     "name": "stdout",
     "output_type": "stream",
     "text": [
      "name 'num' is not defined\n"
     ]
    }
   ],
   "source": [
    "#捕获异常信息\n",
    "try:\n",
    "    print(num)\n",
    "except (NameError, ZeroDivisionError) as result:\n",
    "    print(result)\n",
    "    "
   ]
  },
  {
   "cell_type": "code",
   "execution_count": 6,
   "metadata": {},
   "outputs": [
    {
     "name": "stdout",
     "output_type": "stream",
     "text": [
      "division by zero\n"
     ]
    }
   ],
   "source": [
    "#捕获所有异常\n",
    "#Exception是所有程序异常类的父类\n",
    "try:\n",
    "    print(1/0)\n",
    "except Exception as result:\n",
    "    print(result)"
   ]
  },
  {
   "cell_type": "code",
   "execution_count": 8,
   "metadata": {},
   "outputs": [
    {
     "name": "stdout",
     "output_type": "stream",
     "text": [
      "1\n",
      "else\n"
     ]
    }
   ],
   "source": [
    "try:\n",
    "    print(1)\n",
    "except Exception as result:\n",
    "    print(result)\n",
    "else: #当程序没有异常时执行else\n",
    "    print('else')"
   ]
  },
  {
   "cell_type": "code",
   "execution_count": 9,
   "metadata": {},
   "outputs": [
    {
     "name": "stdout",
     "output_type": "stream",
     "text": [
      "1\n",
      "else\n",
      "finally\n"
     ]
    }
   ],
   "source": [
    "try:\n",
    "    print(1)\n",
    "except Exception as result:\n",
    "    print(result)\n",
    "else: #当程序没有异常时执行else\n",
    "    print('else')\n",
    "finally: #无论程序是否异常，都执行finally\n",
    "    print('finally')"
   ]
  },
  {
   "cell_type": "code",
   "execution_count": 12,
   "metadata": {},
   "outputs": [
    {
     "name": "stdout",
     "output_type": "stream",
     "text": [
      "333\\\n",
      "\n",
      "666\\\n",
      "\n",
      "777\\\n",
      "\n",
      "8888}\n",
      "关闭文件\n"
     ]
    }
   ],
   "source": [
    "#异常传递\n",
    "import time\n",
    "try:\n",
    "    f = open('text.txt')\n",
    "    try:\n",
    "        while True:\n",
    "            content = f.readline()\n",
    "            if len(content) == 0:\n",
    "                break\n",
    "            time.sleep(2)#两秒之后打印内容\n",
    "            print(content)\n",
    "    except:\n",
    "        print('意外终止')\n",
    "    finally:\n",
    "        f.close()\n",
    "        print('关闭文件')\n",
    "except:\n",
    "    print('不存在')"
   ]
  },
  {
   "cell_type": "markdown",
   "metadata": {},
   "source": [
    "### 自定义异常"
   ]
  },
  {
   "cell_type": "code",
   "execution_count": 15,
   "metadata": {},
   "outputs": [
    {
     "name": "stdout",
     "output_type": "stream",
     "text": [
      "请输入密码:123\n",
      "finish\n"
     ]
    }
   ],
   "source": [
    "#自定义异常类，继承Exception\n",
    "class ShortInputError(Exception):\n",
    "    def __init__(self, length, min_len):\n",
    "        self.length = length\n",
    "        self.min_len = min_len\n",
    "    #抛出异常信息\n",
    "    def __str__(self):\n",
    "        return f'输入的长度为{self.length}, 不能少于{self.min_len}'\n",
    "        \n",
    "def main():\n",
    "    try:\n",
    "        con = input('请输入密码:')\n",
    "        if len(con) < 3:\n",
    "            #raise用于抛出自定义异常\n",
    "            raise ShortInputError(len(con), 3)\n",
    "    except Exception as result:\n",
    "        print(result)\n",
    "    else:\n",
    "        print('finish')\n",
    "#捕获异常\n",
    "main()"
   ]
  },
  {
   "cell_type": "code",
   "execution_count": null,
   "metadata": {},
   "outputs": [],
   "source": []
  }
 ],
 "metadata": {
  "kernelspec": {
   "display_name": "Python 3",
   "language": "python",
   "name": "python3"
  },
  "language_info": {
   "codemirror_mode": {
    "name": "ipython",
    "version": 3
   },
   "file_extension": ".py",
   "mimetype": "text/x-python",
   "name": "python",
   "nbconvert_exporter": "python",
   "pygments_lexer": "ipython3",
   "version": "3.7.3"
  }
 },
 "nbformat": 4,
 "nbformat_minor": 2
}
