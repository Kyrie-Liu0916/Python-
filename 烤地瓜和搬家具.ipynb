{
 "cells": [
  {
   "cell_type": "markdown",
   "metadata": {},
   "source": [
    "## 烤地瓜"
   ]
  },
  {
   "cell_type": "markdown",
   "metadata": {},
   "source": [
    "### 地瓜的属性：\n",
    "#### 被烤时间\n",
    "#### 地瓜状态\n",
    "#### 添加的调料"
   ]
  },
  {
   "cell_type": "markdown",
   "metadata": {},
   "source": [
    "### 地瓜的方法：\n",
    "#### 被烤\n",
    "###### 用户根据意愿设定每次时间\n",
    "###### 判断时间区间，修改地瓜状态\n",
    "#### 添加调料\n",
    "###### 根据意愿添加调料\n",
    "###### 将添加的调料存储"
   ]
  },
  {
   "cell_type": "code",
   "execution_count": 10,
   "metadata": {},
   "outputs": [],
   "source": [
    "# 定义类\n",
    "class SweetPotato():\n",
    "    def __init__(self):\n",
    "        #被烤时间\n",
    "        self.cook_time = 0\n",
    "        #地瓜的状态\n",
    "        self.cook_state = 'sheng'\n",
    "        #调料\n",
    "        self.condiments = []\n",
    "    def cook(self, time):\n",
    "        \"\"\"烤地瓜方法\"\"\"\n",
    "        self.cook_time += time\n",
    "        if 0 <= self.cook_time < 3:\n",
    "            self.cook_state = 'sheng'\n",
    "        elif 3 <= self.cook_time <5:\n",
    "            self.cook_state = 'bsbs'\n",
    "        elif 5 <= self.cook_time <8:\n",
    "            self.cook_state = 'shoule'\n",
    "        elif self.cook_time >= 8:\n",
    "            self.cook_state = 'hule'\n",
    "    def __str__(self):\n",
    "        return f'地瓜烤了{self.cook_time}分钟，状态是{self.cook_state}, 调料有{self.condiments}'\n",
    "    def add_condiments(self, condiment):\n",
    "        \"\"\"添加调料\"\"\"\n",
    "        self.condiments.append(condiment)"
   ]
  },
  {
   "cell_type": "code",
   "execution_count": 11,
   "metadata": {},
   "outputs": [
    {
     "name": "stdout",
     "output_type": "stream",
     "text": [
      "地瓜烤了0分钟，状态是sheng, 调料有[]\n",
      "地瓜烤了2分钟，状态是sheng, 调料有['酱油']\n",
      "地瓜烤了6分钟，状态是shoule, 调料有['酱油', '辣椒']\n"
     ]
    }
   ],
   "source": [
    "digua1 = SweetPotato()\n",
    "print(digua1)\n",
    "digua1.cook(2)\n",
    "digua1.add_condiments('酱油')\n",
    "print(digua1)\n",
    "digua1.cook(4)\n",
    "digua1.add_condiments('辣椒')\n",
    "print(digua1)"
   ]
  },
  {
   "cell_type": "markdown",
   "metadata": {},
   "source": [
    "## 搬家具"
   ]
  },
  {
   "cell_type": "markdown",
   "metadata": {},
   "source": [
    "### 将小于房子剩余面积的家具搬到家里去"
   ]
  },
  {
   "cell_type": "code",
   "execution_count": 13,
   "metadata": {},
   "outputs": [],
   "source": [
    "#家具类\n",
    "class Furniture():\n",
    "    def __init__(self, name, area):\n",
    "        self.name = name\n",
    "        self.area = area\n"
   ]
  },
  {
   "cell_type": "code",
   "execution_count": 18,
   "metadata": {},
   "outputs": [],
   "source": [
    "class Home():\n",
    "    def __init__(self, address, area):\n",
    "        #地理位置\n",
    "        self.address = address\n",
    "        #房屋面积\n",
    "        self.area = area\n",
    "        #剩余面积\n",
    "        self.free_area = area\n",
    "        #家具列表\n",
    "        self.furniture = []\n",
    "    def add_furniture(self, item):\n",
    "        if self.free_area >= item.area:\n",
    "            self.furniture.append(item.name)\n",
    "            self.free_area -= item.area\n",
    "        else :\n",
    "            print(\"太大无法容纳\")\n",
    "    def __str__(self):\n",
    "        return f'坐落于{self.address}, 房屋面积{self.area}, 剩余面积{self.free_area}, 家具有{self.furniture}'\n"
   ]
  },
  {
   "cell_type": "code",
   "execution_count": 21,
   "metadata": {},
   "outputs": [
    {
     "name": "stdout",
     "output_type": "stream",
     "text": [
      "坐落于beijing, 房屋面积1000, 剩余面积990, 家具有['double bed']\n",
      "坐落于beijing, 房屋面积1000, 剩余面积984, 家具有['double bed', 'sofa']\n"
     ]
    }
   ],
   "source": [
    "bed = Furniture('double bed', 10)\n",
    "sofa = Furniture('sofa', 6)\n",
    "jia1 = Home('beijing', 1000)\n",
    "jia1.add_furniture(bed)\n",
    "print(jia1)\n",
    "jia1.add_furniture(sofa)\n",
    "print(jia1)"
   ]
  },
  {
   "cell_type": "code",
   "execution_count": null,
   "metadata": {},
   "outputs": [],
   "source": []
  }
 ],
 "metadata": {
  "kernelspec": {
   "display_name": "Python 3",
   "language": "python",
   "name": "python3"
  },
  "language_info": {
   "codemirror_mode": {
    "name": "ipython",
    "version": 3
   },
   "file_extension": ".py",
   "mimetype": "text/x-python",
   "name": "python",
   "nbconvert_exporter": "python",
   "pygments_lexer": "ipython3",
   "version": "3.7.3"
  }
 },
 "nbformat": 4,
 "nbformat_minor": 2
}
