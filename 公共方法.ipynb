{
 "cells": [
  {
   "cell_type": "markdown",
   "metadata": {},
   "source": [
    "# 公共方法"
   ]
  },
  {
   "cell_type": "markdown",
   "metadata": {},
   "source": [
    "## 运算符\n",
    "1.  || + 合并 支持字符串，列表，元组\n",
    "2. || * 复制 支持字符串，列表，元组\n",
    "3. || in 元素是否存在 支持字符串，列表，元组，字典\n",
    "4. || not in 元素是否不存在 支持字符串，列表，元组，字典"
   ]
  },
  {
   "cell_type": "code",
   "execution_count": 16,
   "metadata": {},
   "outputs": [
    {
     "name": "stdout",
     "output_type": "stream",
     "text": [
      "aabb\n",
      "[1, 2, 10, 20]\n",
      "(10, 20, 1, 2)\n"
     ]
    },
    {
     "ename": "TypeError",
     "evalue": "unsupported operand type(s) for +: 'dict' and 'dict'",
     "output_type": "error",
     "traceback": [
      "\u001b[0;31m---------------------------------------------------------------------------\u001b[0m",
      "\u001b[0;31mTypeError\u001b[0m                                 Traceback (most recent call last)",
      "\u001b[0;32m<ipython-input-16-30ab6d85c57f>\u001b[0m in \u001b[0;36m<module>\u001b[0;34m\u001b[0m\n\u001b[1;32m     15\u001b[0m \u001b[0mprint\u001b[0m\u001b[0;34m(\u001b[0m\u001b[0mlist2\u001b[0m \u001b[0;34m+\u001b[0m \u001b[0mlist1\u001b[0m\u001b[0;34m)\u001b[0m\u001b[0;34m\u001b[0m\u001b[0;34m\u001b[0m\u001b[0m\n\u001b[1;32m     16\u001b[0m \u001b[0mprint\u001b[0m\u001b[0;34m(\u001b[0m\u001b[0mt1\u001b[0m \u001b[0;34m+\u001b[0m \u001b[0mt2\u001b[0m\u001b[0;34m)\u001b[0m\u001b[0;34m\u001b[0m\u001b[0;34m\u001b[0m\u001b[0m\n\u001b[0;32m---> 17\u001b[0;31m \u001b[0mprint\u001b[0m\u001b[0;34m(\u001b[0m\u001b[0mdict1\u001b[0m \u001b[0;34m+\u001b[0m \u001b[0mdict2\u001b[0m\u001b[0;34m)\u001b[0m\u001b[0;34m\u001b[0m\u001b[0;34m\u001b[0m\u001b[0m\n\u001b[0m",
      "\u001b[0;31mTypeError\u001b[0m: unsupported operand type(s) for +: 'dict' and 'dict'"
     ]
    }
   ],
   "source": [
    "# +\n",
    "str1 = 'aa'\n",
    "str2 = 'bb'\n",
    "\n",
    "list1 = [10,20]\n",
    "list2 = [1,2]\n",
    "\n",
    "t1 = (10,20)\n",
    "t2 = (1,2)\n",
    "\n",
    "dict1 = {'name':'Tom'}\n",
    "dict2 = {'age':20}\n",
    "\n",
    "print(str1 + str2)\n",
    "print(list2 + list1)\n",
    "print(t1 + t2)\n",
    "print(dict1 + dict2)"
   ]
  },
  {
   "cell_type": "code",
   "execution_count": 11,
   "metadata": {},
   "outputs": [
    {
     "name": "stdout",
     "output_type": "stream",
     "text": [
      "aaaaa\n",
      "['hello', 'hello', 'hello', 'hello', 'hello']\n",
      "('world', 'world', 'world', 'world', 'world')\n"
     ]
    }
   ],
   "source": [
    "str1 = 'a'\n",
    "list1 = ['hello']\n",
    "t1 = ('world',)\n",
    "print(str1 * 5)\n",
    "print(list1 * 5)\n",
    "print(t1*5)"
   ]
  },
  {
   "cell_type": "markdown",
   "metadata": {},
   "source": [
    "### 函数\n",
    "1. len() 计算容器中元素个数\n",
    "2. del() 删除\n",
    "3. max() 返回容器中元素最大值\n",
    "4. min() 返回容器中元素最小值\n",
    "5. range(start,end,step) 生成从start到end的数字，步长为step，供for循环使用\n",
    "6. enumerate() 函数用于将一个可遍历的数据对象（如列表 元组或字符串）组合为一个索引序列，同时列出数据和数据下标，一般用在for循环中"
   ]
  },
  {
   "cell_type": "code",
   "execution_count": 18,
   "metadata": {},
   "outputs": [
    {
     "name": "stdout",
     "output_type": "stream",
     "text": [
      "g\n",
      "10\n"
     ]
    }
   ],
   "source": [
    "str1 = 'abcdefg'\n",
    "list1 = [10,20,30,40]\n",
    "print(max(str1))\n",
    "print(min(list1))"
   ]
  },
  {
   "cell_type": "code",
   "execution_count": 23,
   "metadata": {},
   "outputs": [
    {
     "name": "stdout",
     "output_type": "stream",
     "text": [
      "range(0, 4)\n"
     ]
    }
   ],
   "source": [
    "print(range(len(list1)))"
   ]
  },
  {
   "cell_type": "code",
   "execution_count": 28,
   "metadata": {},
   "outputs": [
    {
     "name": "stdout",
     "output_type": "stream",
     "text": [
      "1\t2\t3\t4\t5\t6\t7\t8\t9\t\n",
      "1\t3\t5\t7\t9\t\n",
      "0\t1\t2\t3\t4\t5\t6\t7\t8\t9\t"
     ]
    }
   ],
   "source": [
    "for i in range(1,10):\n",
    "    print(i,end = '\\t')\n",
    "print()\n",
    "for i in range(1,10,2):\n",
    "    print(i,end = '\\t')\n",
    "print()\n",
    "for i in range(10):\n",
    "    print(i,end = '\\t')"
   ]
  },
  {
   "cell_type": "markdown",
   "metadata": {},
   "source": [
    "### enumerate(可遍历对象，start = 0) 开始值默认为0"
   ]
  },
  {
   "cell_type": "code",
   "execution_count": 30,
   "metadata": {},
   "outputs": [
    {
     "name": "stdout",
     "output_type": "stream",
     "text": [
      "(0, 'a')\n",
      "(1, 'b')\n",
      "(2, 'c')\n",
      "(3, 'd')\n",
      "下标为1,值为a\n",
      "下标为2,值为b\n",
      "下标为3,值为c\n",
      "下标为4,值为d\n"
     ]
    }
   ],
   "source": [
    "list1 = ['a','b','c','d']\n",
    "for i in enumerate(list1):\n",
    "    print(i)\n",
    "for index, char in enumerate(list1, start = 1):\n",
    "    print(f'下标为{index},值为{char}')"
   ]
  },
  {
   "cell_type": "markdown",
   "metadata": {},
   "source": [
    "### 容器类型转换"
   ]
  },
  {
   "cell_type": "code",
   "execution_count": 31,
   "metadata": {},
   "outputs": [
    {
     "name": "stdout",
     "output_type": "stream",
     "text": [
      "(10, 20, 30, 40)\n",
      "(200, 100, 400, 300)\n"
     ]
    }
   ],
   "source": [
    "list1 = [10,20,30,40]\n",
    "s1 = {100,200,300,400}\n",
    "t1 = ('a','b','c','d')\n",
    "#tuple 将某个序列转换为元组\n",
    "print(tuple(list1))\n",
    "print(tuple(s1))"
   ]
  },
  {
   "cell_type": "code",
   "execution_count": 35,
   "metadata": {},
   "outputs": [
    {
     "name": "stdout",
     "output_type": "stream",
     "text": [
      "[200, 100, 400, 300]\n",
      "['a', 'b', 'c', 'd']\n"
     ]
    }
   ],
   "source": [
    "#list 转换为列表\n",
    "print(list(s1))\n",
    "print(list(t1))"
   ]
  },
  {
   "cell_type": "code",
   "execution_count": 36,
   "metadata": {},
   "outputs": [
    {
     "name": "stdout",
     "output_type": "stream",
     "text": [
      "{40, 10, 20, 30}\n",
      "{'c', 'b', 'a', 'd'}\n"
     ]
    }
   ],
   "source": [
    "#set 转换为集合\n",
    "print(set(list1))\n",
    "print(set(t1))"
   ]
  },
  {
   "cell_type": "code",
   "execution_count": null,
   "metadata": {},
   "outputs": [],
   "source": []
  }
 ],
 "metadata": {
  "kernelspec": {
   "display_name": "Python 3",
   "language": "python",
   "name": "python3"
  },
  "language_info": {
   "codemirror_mode": {
    "name": "ipython",
    "version": 3
   },
   "file_extension": ".py",
   "mimetype": "text/x-python",
   "name": "python",
   "nbconvert_exporter": "python",
   "pygments_lexer": "ipython3",
   "version": "3.7.3"
  }
 },
 "nbformat": 4,
 "nbformat_minor": 2
}
