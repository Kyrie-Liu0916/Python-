{
 "cells": [
  {
   "cell_type": "markdown",
   "metadata": {},
   "source": [
    "# 函数加强"
   ]
  },
  {
   "cell_type": "markdown",
   "metadata": {},
   "source": [
    "### 学员管理系统"
   ]
  },
  {
   "cell_type": "code",
   "execution_count": 1,
   "metadata": {},
   "outputs": [
    {
     "name": "stdout",
     "output_type": "stream",
     "text": [
      "请选择功能------\n",
      "1. 添加学员\n",
      "2. 删除学员\n",
      "3. 修改学员\n",
      "4. 查询学员\n",
      "5. 显示所有学员\n",
      "6. 退出系统\n",
      "--------------------\n"
     ]
    }
   ],
   "source": [
    "# 定义功能界面\n",
    "def info_print():\n",
    "    print('请选择功能------')\n",
    "    print('1. 添加学员')\n",
    "    print('2. 删除学员')\n",
    "    print('3. 修改学员')\n",
    "    print('4. 查询学员')\n",
    "    print('5. 显示所有学员')\n",
    "    print('6. 退出系统')\n",
    "    print('-' * 20)\n",
    "info_print()"
   ]
  },
  {
   "cell_type": "code",
   "execution_count": 2,
   "metadata": {},
   "outputs": [],
   "source": [
    "info = []"
   ]
  },
  {
   "cell_type": "code",
   "execution_count": 3,
   "metadata": {},
   "outputs": [],
   "source": [
    "\n",
    "def add_info():\n",
    "    \"\"\"添加学员\"\"\"\n",
    "    new_id = input('请输入学号：')\n",
    "    new_name = input('请输入姓名：')\n",
    "    new_tel = input('请输入手机号')\n",
    "    \n",
    "    global info\n",
    "    for i in info:\n",
    "        if new_id == i['id']:\n",
    "            print('已存在!!!!!!!!!!!!!!!!!!!')\n",
    "            #退出当前函数 不执行添加\n",
    "            return\n",
    "        \n",
    "    info_dict = {}\n",
    "    info_dict['id'] = new_id\n",
    "    info_dict['name'] = new_name\n",
    "    info_dict['tel'] = new_tel\n",
    "    info.append(info_dict)\n",
    "    print(info)"
   ]
  },
  {
   "cell_type": "code",
   "execution_count": 14,
   "metadata": {},
   "outputs": [],
   "source": [
    "def del_info():\n",
    "    del_name = input('请输入要删除的id：')\n",
    "    global info\n",
    "    for i in info:\n",
    "        if del_name == i['id']:\n",
    "            info.remove(i)\n",
    "            break\n",
    "    else:\n",
    "        print('不存在！！！！')\n",
    "    print(info)"
   ]
  },
  {
   "cell_type": "code",
   "execution_count": 18,
   "metadata": {},
   "outputs": [],
   "source": [
    "def modify_info():\n",
    "    modify_id = input('输入要修改的学员id：')\n",
    "    global info\n",
    "    for i in info:\n",
    "        if modify_id == i['id']:\n",
    "            i['tel'] = input('输入新手机号：')\n",
    "            break\n",
    "    else:\n",
    "        print('不存在')\n",
    "    print(info)"
   ]
  },
  {
   "cell_type": "code",
   "execution_count": 21,
   "metadata": {},
   "outputs": [],
   "source": [
    "def search_info():\n",
    "    search_id = input('输入要查找的学员id')\n",
    "    for i in info:\n",
    "        if search_id == i['id']:\n",
    "            print(f\"id为{i['id']},姓名{i['name']},电话{i['tel']}\")\n",
    "            break\n",
    "    else:\n",
    "            print('不存在')"
   ]
  },
  {
   "cell_type": "code",
   "execution_count": 23,
   "metadata": {},
   "outputs": [],
   "source": [
    "def print_all():\n",
    "    print('学号\\t姓名\\t电话')\n",
    "    for i in info:\n",
    "        print(f\"{i['id']}\\t{i['name']}\\t{i['tel']}\")"
   ]
  },
  {
   "cell_type": "code",
   "execution_count": 28,
   "metadata": {},
   "outputs": [
    {
     "name": "stdout",
     "output_type": "stream",
     "text": [
      "请选择功能------\n",
      "1. 添加学员\n",
      "2. 删除学员\n",
      "3. 修改学员\n",
      "4. 查询学员\n",
      "5. 显示所有学员\n",
      "6. 退出系统\n",
      "--------------------\n",
      "请输入功能序号：6\n",
      "确定退出么，yes or no\n",
      "yyy\n",
      "请选择功能------\n",
      "1. 添加学员\n",
      "2. 删除学员\n",
      "3. 修改学员\n",
      "4. 查询学员\n",
      "5. 显示所有学员\n",
      "6. 退出系统\n",
      "--------------------\n",
      "请输入功能序号：6\n",
      "确定退出么，yes or no\n",
      "yes\n"
     ]
    }
   ],
   "source": [
    "while True:\n",
    "    info_print()\n",
    "    user_input = int(input('请输入功能序号：'))\n",
    "    if user_input == 1:\n",
    "#         print('添加')\n",
    "        add_info()\n",
    "    elif user_input == 2:\n",
    "        # print('删除')\n",
    "        del_info()\n",
    "    elif user_input == 3:\n",
    "#         print('修改')\n",
    "        modify_info()\n",
    "    elif user_input == 4:\n",
    "#         print('查询')\n",
    "        search_info()\n",
    "    elif user_input == 5:\n",
    "#         print('显示所有学员')\n",
    "        print_all()\n",
    "    elif user_input == 6:\n",
    "#         print('退出')\n",
    "        exit_flag = input('确定退出么，yes or no\\n')\n",
    "        if exit_flag == 'yes':\n",
    "            break\n",
    "    else:\n",
    "        print('输入有误')"
   ]
  },
  {
   "cell_type": "markdown",
   "metadata": {},
   "source": [
    "# 递归"
   ]
  },
  {
   "cell_type": "markdown",
   "metadata": {},
   "source": [
    "### 计算阶乘"
   ]
  },
  {
   "cell_type": "code",
   "execution_count": 43,
   "metadata": {},
   "outputs": [
    {
     "data": {
      "text/plain": [
       "120"
      ]
     },
     "execution_count": 43,
     "metadata": {},
     "output_type": "execute_result"
    }
   ],
   "source": [
    "def mul_num(num):\n",
    "    if num == 1:\n",
    "        return 1\n",
    "    return num * mul_num(num - 1)\n",
    "mul_num(5)\n",
    "    "
   ]
  },
  {
   "cell_type": "code",
   "execution_count": 44,
   "metadata": {},
   "outputs": [
    {
     "data": {
      "text/plain": [
       "120"
      ]
     },
     "execution_count": 44,
     "metadata": {},
     "output_type": "execute_result"
    }
   ],
   "source": [
    "def mul_num(num):\n",
    "    i = 1\n",
    "    result = 1\n",
    "    while i <= num:\n",
    "        result *= i\n",
    "        i += 1\n",
    "    return result\n",
    "mul_num(5)\n",
    "        "
   ]
  },
  {
   "cell_type": "markdown",
   "metadata": {},
   "source": [
    "# lambda 匿名函数"
   ]
  },
  {
   "cell_type": "markdown",
   "metadata": {},
   "source": [
    "如果一个函数只有一个返回值，并且只有一句代码，可以用lambda简化"
   ]
  },
  {
   "cell_type": "code",
   "execution_count": 51,
   "metadata": {},
   "outputs": [
    {
     "name": "stdout",
     "output_type": "stream",
     "text": [
      "<function fn1 at 0x105c3c840>\n",
      "100\n"
     ]
    }
   ],
   "source": [
    "def fn1():\n",
    "    return 100\n",
    "print(fn1)\n",
    "print(fn1())"
   ]
  },
  {
   "cell_type": "code",
   "execution_count": 52,
   "metadata": {},
   "outputs": [
    {
     "name": "stdout",
     "output_type": "stream",
     "text": [
      "<function <lambda> at 0x105c3c6a8>\n",
      "100\n"
     ]
    }
   ],
   "source": [
    "fn2 = lambda : 100\n",
    "print(fn2) # 打印lambda内存地址\n",
    "print(fn2())"
   ]
  },
  {
   "cell_type": "code",
   "execution_count": 76,
   "metadata": {},
   "outputs": [
    {
     "data": {
      "text/plain": [
       "3"
      ]
     },
     "execution_count": 76,
     "metadata": {},
     "output_type": "execute_result"
    }
   ],
   "source": [
    "# lambda 实现加法\n",
    "fn1 = lambda a,b : a +b\n",
    "fn1(1,2)"
   ]
  },
  {
   "cell_type": "code",
   "execution_count": 54,
   "metadata": {},
   "outputs": [
    {
     "data": {
      "text/plain": [
       "'hello world'"
      ]
     },
     "execution_count": 54,
     "metadata": {},
     "output_type": "execute_result"
    }
   ],
   "source": [
    "fn1 = lambda a : a\n",
    "fn1('hello world')"
   ]
  },
  {
   "cell_type": "code",
   "execution_count": 58,
   "metadata": {},
   "outputs": [
    {
     "data": {
      "text/plain": [
       "40"
      ]
     },
     "execution_count": 58,
     "metadata": {},
     "output_type": "execute_result"
    }
   ],
   "source": [
    "# 默认参数\n",
    "fn1 = lambda a,b,c = 10 : a +b +c\n",
    "fn1(10,20)"
   ]
  },
  {
   "cell_type": "code",
   "execution_count": 61,
   "metadata": {},
   "outputs": [
    {
     "data": {
      "text/plain": [
       "(10, 20, 30, 50)"
      ]
     },
     "execution_count": 61,
     "metadata": {},
     "output_type": "execute_result"
    }
   ],
   "source": [
    "fn1 = lambda * args : args\n",
    "fn1(10,20,30,50)"
   ]
  },
  {
   "cell_type": "code",
   "execution_count": 65,
   "metadata": {},
   "outputs": [
    {
     "data": {
      "text/plain": [
       "{'name': 'Python', 'age': 20, 'gender': 'man'}"
      ]
     },
     "execution_count": 65,
     "metadata": {},
     "output_type": "execute_result"
    }
   ],
   "source": [
    "fn1 = lambda **kwargs : kwargs\n",
    "fn1(name = 'Python', age = 20,gender = 'man')"
   ]
  },
  {
   "cell_type": "markdown",
   "metadata": {},
   "source": [
    "### lambda的应用"
   ]
  },
  {
   "cell_type": "markdown",
   "metadata": {},
   "source": [
    "### 判断"
   ]
  },
  {
   "cell_type": "code",
   "execution_count": 66,
   "metadata": {},
   "outputs": [
    {
     "data": {
      "text/plain": [
       "100"
      ]
     },
     "execution_count": 66,
     "metadata": {},
     "output_type": "execute_result"
    }
   ],
   "source": [
    "fn1 = lambda a,b : a if a > b else b\n",
    "fn1(100,20)"
   ]
  },
  {
   "cell_type": "markdown",
   "metadata": {},
   "source": [
    "### 把字典按key值排序"
   ]
  },
  {
   "cell_type": "code",
   "execution_count": 67,
   "metadata": {},
   "outputs": [
    {
     "data": {
      "text/plain": [
       "[{'name': 'Python', 'age': 19},\n",
       " {'name': 'Rose', 'age': 18},\n",
       " {'name': 'Tom', 'age': 20}]"
      ]
     },
     "execution_count": 67,
     "metadata": {},
     "output_type": "execute_result"
    }
   ],
   "source": [
    "students = [\n",
    "    {'name' : 'Tom','age' : 20},\n",
    "    {'name' :'Rose','age' : 18},\n",
    "    {'name' : 'Python','age' :19}\n",
    "]\n",
    "students.sort(key = lambda x : x['name'])\n",
    "students"
   ]
  },
  {
   "cell_type": "code",
   "execution_count": 82,
   "metadata": {},
   "outputs": [
    {
     "data": {
      "text/plain": [
       "[{'name': 'Tom', 'age': 20},\n",
       " {'name': 'Python', 'age': 19},\n",
       " {'name': 'Rose', 'age': 18}]"
      ]
     },
     "execution_count": 82,
     "metadata": {},
     "output_type": "execute_result"
    }
   ],
   "source": [
    "students.sort(key = lambda x : x['age'], reverse = True)\n",
    "students"
   ]
  },
  {
   "cell_type": "markdown",
   "metadata": {},
   "source": [
    "## 高阶函数\n",
    "把函数作为参数传入"
   ]
  },
  {
   "cell_type": "markdown",
   "metadata": {},
   "source": [
    "### abs求绝对值"
   ]
  },
  {
   "cell_type": "code",
   "execution_count": 87,
   "metadata": {},
   "outputs": [
    {
     "data": {
      "text/plain": [
       "10.22"
      ]
     },
     "execution_count": 87,
     "metadata": {},
     "output_type": "execute_result"
    }
   ],
   "source": [
    "abs(-10.22)"
   ]
  },
  {
   "cell_type": "markdown",
   "metadata": {},
   "source": [
    "### round() 求四舍五入"
   ]
  },
  {
   "cell_type": "code",
   "execution_count": 86,
   "metadata": {},
   "outputs": [
    {
     "name": "stdout",
     "output_type": "stream",
     "text": [
      "1\n",
      "2\n"
     ]
    }
   ],
   "source": [
    "print(round(1.2))\n",
    "print(round(1.5))"
   ]
  },
  {
   "cell_type": "code",
   "execution_count": 88,
   "metadata": {},
   "outputs": [
    {
     "data": {
      "text/plain": [
       "3"
      ]
     },
     "execution_count": 88,
     "metadata": {},
     "output_type": "execute_result"
    }
   ],
   "source": [
    "add_num = lambda a,b : abs(a) + abs(b)\n",
    "add_num(-1,2)"
   ]
  },
  {
   "cell_type": "code",
   "execution_count": 89,
   "metadata": {},
   "outputs": [
    {
     "data": {
      "text/plain": [
       "1"
      ]
     },
     "execution_count": 89,
     "metadata": {},
     "output_type": "execute_result"
    }
   ],
   "source": [
    "round(abs(-1.2))"
   ]
  },
  {
   "cell_type": "code",
   "execution_count": 112,
   "metadata": {},
   "outputs": [
    {
     "name": "stdout",
     "output_type": "stream",
     "text": [
      "5.800\n"
     ]
    }
   ],
   "source": [
    "sum_num = lambda a,b,f : f(a) +f(b)\n",
    "print('%0.3f' % sum_num(-2.6,3.2,abs))"
   ]
  },
  {
   "cell_type": "markdown",
   "metadata": {},
   "source": [
    "### map()"
   ]
  },
  {
   "cell_type": "code",
   "execution_count": 115,
   "metadata": {},
   "outputs": [
    {
     "name": "stdout",
     "output_type": "stream",
     "text": [
      "<map object at 0x105eedcf8>\n",
      "[1, 4, 9, 16]\n"
     ]
    }
   ],
   "source": [
    "list1 = [1,2,3,4]\n",
    "func = lambda x : x**2\n",
    "result = map(func,list1)\n",
    "print(result)\n",
    "print(list(result))"
   ]
  },
  {
   "cell_type": "markdown",
   "metadata": {},
   "source": [
    "### reduce()"
   ]
  },
  {
   "cell_type": "code",
   "execution_count": 118,
   "metadata": {},
   "outputs": [
    {
     "data": {
      "text/plain": [
       "15"
      ]
     },
     "execution_count": 118,
     "metadata": {},
     "output_type": "execute_result"
    }
   ],
   "source": [
    "# reduce(func,list) func必须有两个参数，每次func计算的结果与序列的下一个数据做累积计算\n",
    "# 计算list各个数字累加\n",
    "import functools\n",
    "list1 = [1,2,3,4,5]\n",
    "func = lambda a,b : a + b\n",
    "functools.reduce(func,list1)"
   ]
  },
  {
   "cell_type": "markdown",
   "metadata": {},
   "source": [
    "### filter()"
   ]
  },
  {
   "cell_type": "code",
   "execution_count": 122,
   "metadata": {},
   "outputs": [
    {
     "data": {
      "text/plain": [
       "[2, 4, 6]"
      ]
     },
     "execution_count": 122,
     "metadata": {},
     "output_type": "execute_result"
    }
   ],
   "source": [
    "list1 = [1,2,3,4,5,6]\n",
    "func = lambda i : i%2 == 0\n",
    "list(filter(func,list1))"
   ]
  },
  {
   "cell_type": "code",
   "execution_count": null,
   "metadata": {},
   "outputs": [],
   "source": []
  }
 ],
 "metadata": {
  "kernelspec": {
   "display_name": "Python 3",
   "language": "python",
   "name": "python3"
  },
  "language_info": {
   "codemirror_mode": {
    "name": "ipython",
    "version": 3
   },
   "file_extension": ".py",
   "mimetype": "text/x-python",
   "name": "python",
   "nbconvert_exporter": "python",
   "pygments_lexer": "ipython3",
   "version": "3.7.3"
  }
 },
 "nbformat": 4,
 "nbformat_minor": 2
}
