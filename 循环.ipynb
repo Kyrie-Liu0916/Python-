{
 "cells": [
  {
   "cell_type": "markdown",
   "metadata": {},
   "source": [
    "# While循环"
   ]
  },
  {
   "cell_type": "code",
   "execution_count": 2,
   "metadata": {},
   "outputs": [
    {
     "name": "stdout",
     "output_type": "stream",
     "text": [
      "我错了\n",
      "我错了\n",
      "我错了\n",
      "我错了\n",
      "我错了\n",
      "任务完成\n"
     ]
    }
   ],
   "source": [
    "i = 0 \n",
    "while i < 5:\n",
    "    print('我错了')\n",
    "    i += 1\n",
    "print('任务完成')"
   ]
  },
  {
   "cell_type": "markdown",
   "metadata": {},
   "source": [
    "### 1-100累加"
   ]
  },
  {
   "cell_type": "code",
   "execution_count": 3,
   "metadata": {},
   "outputs": [
    {
     "name": "stdout",
     "output_type": "stream",
     "text": [
      "5050\n"
     ]
    }
   ],
   "source": [
    "i = 1\n",
    "result = 0\n",
    "while i <= 100:\n",
    "    result += i\n",
    "    i += 1\n",
    "print(result)"
   ]
  },
  {
   "cell_type": "markdown",
   "metadata": {},
   "source": [
    "### 1-100偶数累加"
   ]
  },
  {
   "cell_type": "code",
   "execution_count": 4,
   "metadata": {},
   "outputs": [
    {
     "name": "stdout",
     "output_type": "stream",
     "text": [
      "2550\n"
     ]
    }
   ],
   "source": [
    "#和2取余数为0\n",
    "i = 1\n",
    "result = 0\n",
    "while i <= 100:\n",
    "    if i % 2 == 0:\n",
    "        result += i\n",
    "    i += 1\n",
    "print(result)"
   ]
  },
  {
   "cell_type": "code",
   "execution_count": 5,
   "metadata": {},
   "outputs": [
    {
     "name": "stdout",
     "output_type": "stream",
     "text": [
      "2550\n"
     ]
    }
   ],
   "source": [
    "# 计数器方法\n",
    "i = 0\n",
    "result = 0\n",
    "while i<= 100:\n",
    "    result += i\n",
    "    i += 2\n",
    "print(result)"
   ]
  },
  {
   "cell_type": "markdown",
   "metadata": {},
   "source": [
    "### Break和Continue"
   ]
  },
  {
   "cell_type": "code",
   "execution_count": 6,
   "metadata": {},
   "outputs": [
    {
     "name": "stdout",
     "output_type": "stream",
     "text": [
      "吃了第1个苹果\n",
      "吃了第2个苹果\n",
      "吃了第3个苹果\n",
      "吃饱了\n"
     ]
    }
   ],
   "source": [
    "i = 1\n",
    "while i <= 5:\n",
    "    if i == 4:\n",
    "        print('吃饱了')\n",
    "        break #某些条件成立 后面都不执行\n",
    "    print(f'吃了第{i}个苹果')\n",
    "    i += 1"
   ]
  },
  {
   "cell_type": "code",
   "execution_count": 7,
   "metadata": {},
   "outputs": [
    {
     "name": "stdout",
     "output_type": "stream",
     "text": [
      "吃了第1个苹果\n",
      "吃了第2个苹果\n",
      "吃到虫子不吃了\n",
      "吃了第4个苹果\n",
      "吃了第5个苹果\n"
     ]
    }
   ],
   "source": [
    "i = 1\n",
    "while i <= 5:\n",
    "    if i == 3:\n",
    "        print('吃到虫子不吃了')\n",
    "        # 使用continue之前一定要修改计数器\n",
    "        i += 1\n",
    "        continue # 退出当前循环进入下一个循环\n",
    "    print(f'吃了第{i}个苹果')\n",
    "    i += 1"
   ]
  },
  {
   "cell_type": "markdown",
   "metadata": {},
   "source": [
    "### while嵌套"
   ]
  },
  {
   "cell_type": "code",
   "execution_count": 8,
   "metadata": {},
   "outputs": [
    {
     "name": "stdout",
     "output_type": "stream",
     "text": [
      "我错了\n",
      "我错了\n",
      "我错了\n",
      "刷碗\n",
      "一套惩罚结束\n",
      "今天休息\n",
      "我错了\n",
      "我错了\n",
      "我错了\n",
      "刷碗\n",
      "一套惩罚结束\n",
      "全部结束\n"
     ]
    }
   ],
   "source": [
    "j = 0\n",
    "while j < 3:\n",
    "    i = 0\n",
    "    if j == 1:\n",
    "        print('今天休息')\n",
    "        j += 1\n",
    "        continue\n",
    "    while i <3:\n",
    "        print('我错了')\n",
    "        i += 1\n",
    "    print('刷碗')\n",
    "    print('一套惩罚结束')\n",
    "    j += 1\n",
    "print('全部结束')"
   ]
  },
  {
   "cell_type": "markdown",
   "metadata": {},
   "source": [
    "### 打印*正方形"
   ]
  },
  {
   "cell_type": "code",
   "execution_count": 9,
   "metadata": {},
   "outputs": [
    {
     "name": "stdout",
     "output_type": "stream",
     "text": [
      "*****\n",
      "*****\n",
      "*****\n",
      "*****\n",
      "*****\n"
     ]
    }
   ],
   "source": [
    "j = 0\n",
    "while j < 5:\n",
    "    i = 0\n",
    "    while i < 5:\n",
    "        print('*', end = '') #防止换行\n",
    "        i += 1\n",
    "    print()# 利用默认结束符换行\n",
    "    j += 1"
   ]
  },
  {
   "cell_type": "markdown",
   "metadata": {},
   "source": [
    "### 打印*三角形"
   ]
  },
  {
   "cell_type": "code",
   "execution_count": 10,
   "metadata": {},
   "outputs": [
    {
     "name": "stdout",
     "output_type": "stream",
     "text": [
      "*\n",
      "**\n",
      "***\n",
      "****\n",
      "*****\n"
     ]
    }
   ],
   "source": [
    "j = 0\n",
    "while j < 5:\n",
    "    i = 0\n",
    "    while i <= j:\n",
    "        print('*', end = '') #防止换行\n",
    "        i += 1\n",
    "    print()# 利用默认结束符换行\n",
    "    j += 1"
   ]
  },
  {
   "cell_type": "markdown",
   "metadata": {},
   "source": [
    "### 打印九九乘法表"
   ]
  },
  {
   "cell_type": "code",
   "execution_count": 11,
   "metadata": {},
   "outputs": [
    {
     "name": "stdout",
     "output_type": "stream",
     "text": [
      "1 * 1 = 1\t\n",
      "1 * 2 = 2\t2 * 2 = 4\t\n",
      "1 * 3 = 3\t2 * 3 = 6\t3 * 3 = 9\t\n",
      "1 * 4 = 4\t2 * 4 = 8\t3 * 4 = 12\t4 * 4 = 16\t\n",
      "1 * 5 = 5\t2 * 5 = 10\t3 * 5 = 15\t4 * 5 = 20\t5 * 5 = 25\t\n",
      "1 * 6 = 6\t2 * 6 = 12\t3 * 6 = 18\t4 * 6 = 24\t5 * 6 = 30\t6 * 6 = 36\t\n",
      "1 * 7 = 7\t2 * 7 = 14\t3 * 7 = 21\t4 * 7 = 28\t5 * 7 = 35\t6 * 7 = 42\t7 * 7 = 49\t\n",
      "1 * 8 = 8\t2 * 8 = 16\t3 * 8 = 24\t4 * 8 = 32\t5 * 8 = 40\t6 * 8 = 48\t7 * 8 = 56\t8 * 8 = 64\t\n",
      "1 * 9 = 9\t2 * 9 = 18\t3 * 9 = 27\t4 * 9 = 36\t5 * 9 = 45\t6 * 9 = 54\t7 * 9 = 63\t8 * 9 = 72\t9 * 9 = 81\t\n"
     ]
    }
   ],
   "source": [
    "j = 1\n",
    "while j <=9:\n",
    "    i = 1\n",
    "    while i <= j:\n",
    "        print(f'{i} * {j} = {i*j}', end ='\\t')\n",
    "        i += 1\n",
    "    print()\n",
    "    j += 1"
   ]
  },
  {
   "cell_type": "markdown",
   "metadata": {},
   "source": [
    "### else(循环正常结束之后运行的代码)"
   ]
  },
  {
   "cell_type": "code",
   "execution_count": 12,
   "metadata": {},
   "outputs": [
    {
     "name": "stdout",
     "output_type": "stream",
     "text": [
      "我错了\n",
      "我错了\n",
      "我错了\n",
      "我错了\n",
      "我错了\n",
      "道歉完毕\n"
     ]
    }
   ],
   "source": [
    "i = 1\n",
    "while i <= 5:\n",
    "    print('我错了')\n",
    "    i += 1\n",
    "else:\n",
    "    print('道歉完毕')"
   ]
  },
  {
   "cell_type": "markdown",
   "metadata": {},
   "source": [
    "### else中的break/continue"
   ]
  },
  {
   "cell_type": "code",
   "execution_count": 13,
   "metadata": {},
   "outputs": [
    {
     "name": "stdout",
     "output_type": "stream",
     "text": [
      "我错了\n",
      "我错了\n",
      "不真诚\n"
     ]
    }
   ],
   "source": [
    "i = 1\n",
    "while i <= 5:\n",
    "    if i == 3:\n",
    "        print('不真诚')\n",
    "        break\n",
    "    print('我错了')\n",
    "    i += 1\n",
    "else:\n",
    "    print('道歉完毕')"
   ]
  },
  {
   "cell_type": "code",
   "execution_count": 17,
   "metadata": {},
   "outputs": [
    {
     "name": "stdout",
     "output_type": "stream",
     "text": [
      "我错了\n",
      "我错了\n",
      "不真诚\n",
      "我错了\n",
      "我错了\n",
      "道歉完毕\n"
     ]
    }
   ],
   "source": [
    "i = 1\n",
    "while i <= 5:\n",
    "    if i == 3:\n",
    "        print('不真诚')\n",
    "        i += 1\n",
    "        continue\n",
    "    print('我错了')\n",
    "    i += 1\n",
    "else:\n",
    "    print('道歉完毕')"
   ]
  },
  {
   "cell_type": "markdown",
   "metadata": {},
   "source": [
    "# For循环"
   ]
  },
  {
   "cell_type": "code",
   "execution_count": 14,
   "metadata": {},
   "outputs": [
    {
     "name": "stdout",
     "output_type": "stream",
     "text": [
      "h\te\ti\tm\ta\t"
     ]
    }
   ],
   "source": [
    "str1 = 'heima'\n",
    "for i in str1:\n",
    "    print(i, end = '\\t')"
   ]
  },
  {
   "cell_type": "markdown",
   "metadata": {},
   "source": [
    "### Break/Continue"
   ]
  },
  {
   "cell_type": "code",
   "execution_count": 15,
   "metadata": {},
   "outputs": [
    {
     "name": "stdout",
     "output_type": "stream",
     "text": [
      "h\n",
      "e\n",
      "遇到i不打印\n"
     ]
    }
   ],
   "source": [
    "str1 = 'heima'\n",
    "for i in str1:\n",
    "    if i == 'i':\n",
    "        print('遇到i不打印')\n",
    "        break\n",
    "    print(i)"
   ]
  },
  {
   "cell_type": "code",
   "execution_count": 16,
   "metadata": {},
   "outputs": [
    {
     "name": "stdout",
     "output_type": "stream",
     "text": [
      "h\n",
      "e\n",
      "遇到i不打印\n",
      "m\n",
      "a\n"
     ]
    }
   ],
   "source": [
    "str1 = 'heima'\n",
    "for i in str1:\n",
    "    if i == 'i':\n",
    "        print('遇到i不打印')\n",
    "        continue\n",
    "    print(i)"
   ]
  },
  {
   "cell_type": "markdown",
   "metadata": {},
   "source": [
    "### else"
   ]
  },
  {
   "cell_type": "code",
   "execution_count": 19,
   "metadata": {},
   "outputs": [
    {
     "name": "stdout",
     "output_type": "stream",
     "text": [
      "h\n",
      "e\n",
      "i\n",
      "m\n",
      "a\n",
      "完毕\n"
     ]
    }
   ],
   "source": [
    "str1 = 'heima'\n",
    "for i in str1:\n",
    "    print(i)\n",
    "else:\n",
    "    print('完毕')"
   ]
  },
  {
   "cell_type": "code",
   "execution_count": 20,
   "metadata": {},
   "outputs": [
    {
     "name": "stdout",
     "output_type": "stream",
     "text": [
      "h\n",
      "e\n",
      "遇到i不打印\n"
     ]
    }
   ],
   "source": [
    "str1 = 'heima'\n",
    "for i in str1:\n",
    "    if i == 'i':\n",
    "        print('遇到i不打印')\n",
    "        break\n",
    "    print(i)\n",
    "else:\n",
    "    print('结束')"
   ]
  },
  {
   "cell_type": "code",
   "execution_count": 21,
   "metadata": {},
   "outputs": [
    {
     "name": "stdout",
     "output_type": "stream",
     "text": [
      "h\n",
      "e\n",
      "遇到i不打印\n",
      "m\n",
      "a\n",
      "结束\n"
     ]
    }
   ],
   "source": [
    "str1 = 'heima'\n",
    "for i in str1:\n",
    "    if i == 'i':\n",
    "        print('遇到i不打印')\n",
    "        continue\n",
    "    print(i)\n",
    "else:\n",
    "    print('结束')"
   ]
  },
  {
   "cell_type": "code",
   "execution_count": null,
   "metadata": {},
   "outputs": [],
   "source": []
  }
 ],
 "metadata": {
  "kernelspec": {
   "display_name": "Python 3",
   "language": "python",
   "name": "python3"
  },
  "language_info": {
   "codemirror_mode": {
    "name": "ipython",
    "version": 3
   },
   "file_extension": ".py",
   "mimetype": "text/x-python",
   "name": "python",
   "nbconvert_exporter": "python",
   "pygments_lexer": "ipython3",
   "version": "3.7.3"
  }
 },
 "nbformat": 4,
 "nbformat_minor": 2
}
