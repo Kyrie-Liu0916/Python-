{
 "cells": [
  {
   "cell_type": "markdown",
   "metadata": {},
   "source": [
    "# 列表"
   ]
  },
  {
   "cell_type": "markdown",
   "metadata": {},
   "source": [
    "### 下标"
   ]
  },
  {
   "cell_type": "code",
   "execution_count": 2,
   "metadata": {},
   "outputs": [
    {
     "name": "stdout",
     "output_type": "stream",
     "text": [
      "Tom\n"
     ]
    }
   ],
   "source": [
    "my_list = ['Tom','Lily','Rose']\n",
    "print(my_list[0])"
   ]
  },
  {
   "cell_type": "markdown",
   "metadata": {},
   "source": [
    "### 查找"
   ]
  },
  {
   "cell_type": "code",
   "execution_count": 3,
   "metadata": {},
   "outputs": [
    {
     "name": "stdout",
     "output_type": "stream",
     "text": [
      "0\n",
      "1\n",
      "3\n"
     ]
    }
   ],
   "source": [
    "print(my_list.index('Tom',0,2))\n",
    "print(my_list.count('Tom'))\n",
    "print(len(my_list))"
   ]
  },
  {
   "cell_type": "markdown",
   "metadata": {},
   "source": [
    "### 判断是否存在"
   ]
  },
  {
   "cell_type": "code",
   "execution_count": 4,
   "metadata": {},
   "outputs": [
    {
     "name": "stdout",
     "output_type": "stream",
     "text": [
      "True\n",
      "False\n"
     ]
    }
   ],
   "source": [
    "print('Tom' in my_list)\n",
    "print('Lily' not in my_list)"
   ]
  },
  {
   "cell_type": "code",
   "execution_count": 6,
   "metadata": {},
   "outputs": [
    {
     "name": "stdout",
     "output_type": "stream",
     "text": [
      "请输入名字aaa\n",
      "名字是aaa 可以使用\n"
     ]
    }
   ],
   "source": [
    "name = input('请输入名字')\n",
    "if name in my_list:\n",
    "    print(f'名字是{name} 已存在')\n",
    "else:\n",
    "    print(f'名字是{name} 可以使用')"
   ]
  },
  {
   "cell_type": "code",
   "execution_count": 8,
   "metadata": {},
   "outputs": [
    {
     "name": "stdout",
     "output_type": "stream",
     "text": [
      "请输入名字Tom\n",
      "名字是Tom 已存在\n",
      "...Lily\n",
      "名字是Lily 已存在\n",
      "...aaa\n",
      "名字是aaa 可以使用\n"
     ]
    }
   ],
   "source": [
    "name = input('请输入名字')\n",
    "while name in my_list:\n",
    "    print(f'名字是{name} 已存在')\n",
    "    name = input('...')\n",
    "else:\n",
    "    print(f'名字是{name} 可以使用')"
   ]
  },
  {
   "cell_type": "markdown",
   "metadata": {},
   "source": [
    "### 增加"
   ]
  },
  {
   "cell_type": "code",
   "execution_count": 9,
   "metadata": {},
   "outputs": [
    {
     "name": "stdout",
     "output_type": "stream",
     "text": [
      "['Tom', 'Lily', 'Rose', 'xiaoming']\n"
     ]
    }
   ],
   "source": [
    "my_list.append('xiaoming')\n",
    "print(my_list)"
   ]
  },
  {
   "cell_type": "code",
   "execution_count": 10,
   "metadata": {},
   "outputs": [
    {
     "name": "stdout",
     "output_type": "stream",
     "text": [
      "请输入名字Tom\n",
      "名字是Tom 已存在\n",
      "...Lily\n",
      "名字是Lily 已存在\n",
      "...aaa\n",
      "名字是aaa 可以使用\n",
      "['Tom', 'Lily', 'Rose', 'xiaoming', 'aaa']\n"
     ]
    }
   ],
   "source": [
    "name = input('请输入名字')\n",
    "while name in my_list:\n",
    "    print(f'名字是{name} 已存在')\n",
    "    name = input('...')\n",
    "else:\n",
    "    print(f'名字是{name} 可以使用')\n",
    "    my_list.append(name)\n",
    "print(my_list)"
   ]
  },
  {
   "cell_type": "code",
   "execution_count": 16,
   "metadata": {},
   "outputs": [
    {
     "name": "stdout",
     "output_type": "stream",
     "text": [
      "['Tom', 'Lily', 'Rose', 'xiaoming', 'aaa', ['11', '22'], ['11', '22']]\n"
     ]
    }
   ],
   "source": [
    "my_list.append(['11','22'])\n",
    "print(my_list)"
   ]
  },
  {
   "cell_type": "code",
   "execution_count": 17,
   "metadata": {},
   "outputs": [
    {
     "name": "stdout",
     "output_type": "stream",
     "text": [
      "['Tom', 'Lily', 'Rose', 'x', 'i', 'a', 'o', 'm', 'i', 'n', 'g']\n"
     ]
    }
   ],
   "source": [
    "# extend 拆开逐一追加\n",
    "my_list = ['Tom','Lily','Rose']\n",
    "my_list.extend('xiaoming')\n",
    "print(my_list)"
   ]
  },
  {
   "cell_type": "code",
   "execution_count": 18,
   "metadata": {},
   "outputs": [
    {
     "name": "stdout",
     "output_type": "stream",
     "text": [
      "['Tom', 'Lily', 'Rose', 'xiaoming', 'lilei']\n"
     ]
    }
   ],
   "source": [
    "my_list = ['Tom','Lily','Rose']\n",
    "my_list.extend(['xiaoming','lilei'])\n",
    "print(my_list)"
   ]
  },
  {
   "cell_type": "code",
   "execution_count": 19,
   "metadata": {},
   "outputs": [
    {
     "name": "stdout",
     "output_type": "stream",
     "text": [
      "['Tom', 'xiaoming', 'Lily', 'Rose']\n"
     ]
    }
   ],
   "source": [
    "# insert (位置，字符) 指定位置增加\n",
    "my_list = ['Tom','Lily','Rose']\n",
    "my_list.insert(1,'xiaoming')\n",
    "print(my_list)"
   ]
  },
  {
   "cell_type": "markdown",
   "metadata": {},
   "source": [
    "### 删除"
   ]
  },
  {
   "cell_type": "code",
   "execution_count": 20,
   "metadata": {},
   "outputs": [
    {
     "ename": "NameError",
     "evalue": "name 'my_list' is not defined",
     "output_type": "error",
     "traceback": [
      "\u001b[0;31m---------------------------------------------------------------------------\u001b[0m",
      "\u001b[0;31mNameError\u001b[0m                                 Traceback (most recent call last)",
      "\u001b[0;32m<ipython-input-20-76feac0f021b>\u001b[0m in \u001b[0;36m<module>\u001b[0;34m\u001b[0m\n\u001b[1;32m      1\u001b[0m \u001b[0mmy_list\u001b[0m \u001b[0;34m=\u001b[0m \u001b[0;34m[\u001b[0m\u001b[0;34m'Tom'\u001b[0m\u001b[0;34m,\u001b[0m\u001b[0;34m'Lily'\u001b[0m\u001b[0;34m,\u001b[0m\u001b[0;34m'Rose'\u001b[0m\u001b[0;34m]\u001b[0m\u001b[0;34m\u001b[0m\u001b[0;34m\u001b[0m\u001b[0m\n\u001b[1;32m      2\u001b[0m \u001b[0;32mdel\u001b[0m \u001b[0mmy_list\u001b[0m\u001b[0;34m\u001b[0m\u001b[0;34m\u001b[0m\u001b[0m\n\u001b[0;32m----> 3\u001b[0;31m \u001b[0mprint\u001b[0m\u001b[0;34m(\u001b[0m\u001b[0mmy_list\u001b[0m\u001b[0;34m)\u001b[0m\u001b[0;34m\u001b[0m\u001b[0;34m\u001b[0m\u001b[0m\n\u001b[0m",
      "\u001b[0;31mNameError\u001b[0m: name 'my_list' is not defined"
     ]
    }
   ],
   "source": [
    "my_list = ['Tom','Lily','Rose']\n",
    "del my_list\n",
    "print(my_list)"
   ]
  },
  {
   "cell_type": "code",
   "execution_count": 27,
   "metadata": {},
   "outputs": [
    {
     "name": "stdout",
     "output_type": "stream",
     "text": [
      "['Lily', 'Rose']\n"
     ]
    }
   ],
   "source": [
    "my_list = ['Tom','Lily','Rose']\n",
    "del my_list[0]\n",
    "print(my_list)"
   ]
  },
  {
   "cell_type": "markdown",
   "metadata": {},
   "source": [
    "pop() 删除指定下标的数据 如果不指定则删除最后一个\n",
    "pop函数会返回被删除的数据"
   ]
  },
  {
   "cell_type": "code",
   "execution_count": 28,
   "metadata": {},
   "outputs": [
    {
     "name": "stdout",
     "output_type": "stream",
     "text": [
      "Rose\n",
      "['Tom', 'Lily']\n"
     ]
    }
   ],
   "source": [
    "my_list = ['Tom','Lily','Rose']\n",
    "del_name = my_list.pop()\n",
    "print(del_name)\n",
    "print(my_list)"
   ]
  },
  {
   "cell_type": "code",
   "execution_count": 29,
   "metadata": {},
   "outputs": [
    {
     "name": "stdout",
     "output_type": "stream",
     "text": [
      "Lily\n",
      "['Tom', 'Rose']\n"
     ]
    }
   ],
   "source": [
    "my_list = ['Tom','Lily','Rose']\n",
    "del_name = my_list.pop(1)\n",
    "print(del_name)\n",
    "print(my_list)"
   ]
  },
  {
   "cell_type": "code",
   "execution_count": 30,
   "metadata": {},
   "outputs": [
    {
     "name": "stdout",
     "output_type": "stream",
     "text": [
      "['Tom', 'Lily']\n"
     ]
    }
   ],
   "source": [
    "#remove\n",
    "my_list = ['Tom','Lily','Rose']\n",
    "my_list.remove('Rose')\n",
    "print(my_list)"
   ]
  },
  {
   "cell_type": "code",
   "execution_count": 31,
   "metadata": {},
   "outputs": [
    {
     "name": "stdout",
     "output_type": "stream",
     "text": [
      "[]\n"
     ]
    }
   ],
   "source": [
    "my_list = ['Tom','Lily','Rose']\n",
    "my_list.clear()\n",
    "print(my_list)"
   ]
  },
  {
   "cell_type": "markdown",
   "metadata": {},
   "source": [
    "### 修改"
   ]
  },
  {
   "cell_type": "code",
   "execution_count": 33,
   "metadata": {},
   "outputs": [
    {
     "name": "stdout",
     "output_type": "stream",
     "text": [
      "['aaa', 'Lily', 'Rose']\n"
     ]
    }
   ],
   "source": [
    "my_list = ['Tom','Lily','Rose']\n",
    "my_list[0] = 'aaa'\n",
    "print(my_list)"
   ]
  },
  {
   "cell_type": "code",
   "execution_count": 35,
   "metadata": {},
   "outputs": [
    {
     "name": "stdout",
     "output_type": "stream",
     "text": [
      "['Rose', 'Lily', 'Tom']\n"
     ]
    }
   ],
   "source": [
    "#逆置\n",
    "my_list = ['Tom','Lily','Rose']\n",
    "my_list.reverse()\n",
    "print(my_list)"
   ]
  },
  {
   "cell_type": "markdown",
   "metadata": {},
   "source": [
    "### 排序"
   ]
  },
  {
   "cell_type": "code",
   "execution_count": 38,
   "metadata": {},
   "outputs": [
    {
     "name": "stdout",
     "output_type": "stream",
     "text": [
      "[1, 2, 3, 4, 5, 6]\n"
     ]
    }
   ],
   "source": [
    "#reverse = True为降序 reverse = False为升序（默认）\n",
    "num_list = [1,3,2,5,4,6]\n",
    "num_list.sort(reverse = False)\n",
    "print(num_list)"
   ]
  },
  {
   "cell_type": "markdown",
   "metadata": {},
   "source": [
    "### 复制"
   ]
  },
  {
   "cell_type": "code",
   "execution_count": 39,
   "metadata": {},
   "outputs": [
    {
     "name": "stdout",
     "output_type": "stream",
     "text": [
      "['Tom', 'Lily', 'Rose']\n"
     ]
    }
   ],
   "source": [
    "my_list = ['Tom','Lily','Rose']\n",
    "my_list2 = my_list.copy()\n",
    "print(my_list2)"
   ]
  },
  {
   "cell_type": "markdown",
   "metadata": {},
   "source": [
    "### 遍历"
   ]
  },
  {
   "cell_type": "code",
   "execution_count": 40,
   "metadata": {},
   "outputs": [
    {
     "name": "stdout",
     "output_type": "stream",
     "text": [
      "Tom\n",
      "Lily\n",
      "Rose\n"
     ]
    }
   ],
   "source": [
    "#While\n",
    "my_list = ['Tom','Lily','Rose']\n",
    "i = 0\n",
    "while i < len(my_list):\n",
    "    print(my_list[i])\n",
    "    i += 1"
   ]
  },
  {
   "cell_type": "code",
   "execution_count": 41,
   "metadata": {},
   "outputs": [
    {
     "name": "stdout",
     "output_type": "stream",
     "text": [
      "Tom\n",
      "Lily\n",
      "Rose\n"
     ]
    }
   ],
   "source": [
    "#for\n",
    "my_list = ['Tom','Lily','Rose']\n",
    "for i in my_list:\n",
    "    print(i)"
   ]
  },
  {
   "cell_type": "markdown",
   "metadata": {},
   "source": [
    "### 列表嵌套"
   ]
  },
  {
   "cell_type": "code",
   "execution_count": 48,
   "metadata": {},
   "outputs": [
    {
     "name": "stdout",
     "output_type": "stream",
     "text": [
      "Lily\n"
     ]
    }
   ],
   "source": [
    "name_list = [['Tom','Lily','Rose'],['hong','ming','lv'],['zhang','li','wang']]\n",
    "print(name_list[0][1])"
   ]
  },
  {
   "cell_type": "markdown",
   "metadata": {},
   "source": [
    "### 随机分配办公室"
   ]
  },
  {
   "cell_type": "markdown",
   "metadata": {},
   "source": [
    "八位老师随机分配到三个办公室"
   ]
  },
  {
   "cell_type": "code",
   "execution_count": 73,
   "metadata": {},
   "outputs": [
    {
     "name": "stdout",
     "output_type": "stream",
     "text": [
      "[['A', 'C', 'F', 'H'], ['G'], ['B', 'D', 'E']]\n",
      "办公室1人数是4\n",
      "A\tC\tF\tH\t\n",
      "办公室2人数是1\n",
      "G\t\n",
      "办公室3人数是3\n",
      "B\tD\tE\t\n"
     ]
    }
   ],
   "source": [
    "import random\n",
    "teachers = ['A','B','C','D','E','F','G','H']\n",
    "offices = [[],[],[]]\n",
    "#遍历老师列表\n",
    "for name in teachers:\n",
    "    #列表追加数据\n",
    "    num = random.randint(0,2)\n",
    "    offices[num].append(name)\n",
    "print(offices)\n",
    "i = 1\n",
    "for office in offices:\n",
    "    print(f'办公室{i}人数是{len(office)}')\n",
    "    for name in office:\n",
    "        print(name, end = '\\t')\n",
    "    print()\n",
    "    i += 1\n",
    "       "
   ]
  },
  {
   "cell_type": "code",
   "execution_count": null,
   "metadata": {},
   "outputs": [],
   "source": []
  },
  {
   "cell_type": "code",
   "execution_count": null,
   "metadata": {},
   "outputs": [],
   "source": []
  }
 ],
 "metadata": {
  "kernelspec": {
   "display_name": "Python 3",
   "language": "python",
   "name": "python3"
  },
  "language_info": {
   "codemirror_mode": {
    "name": "ipython",
    "version": 3
   },
   "file_extension": ".py",
   "mimetype": "text/x-python",
   "name": "python",
   "nbconvert_exporter": "python",
   "pygments_lexer": "ipython3",
   "version": "3.7.3"
  }
 },
 "nbformat": 4,
 "nbformat_minor": 2
}
