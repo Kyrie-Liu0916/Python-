{
 "cells": [
  {
   "cell_type": "markdown",
   "metadata": {},
   "source": [
    "# 字符串"
   ]
  },
  {
   "cell_type": "markdown",
   "metadata": {},
   "source": [
    "### 下标"
   ]
  },
  {
   "cell_type": "code",
   "execution_count": 8,
   "metadata": {},
   "outputs": [
    {
     "name": "stdout",
     "output_type": "stream",
     "text": [
      "abcdefg\n",
      "b\n"
     ]
    }
   ],
   "source": [
    "str1 = 'abcdefg'\n",
    "print(str1)\n",
    "print(str1[1])"
   ]
  },
  {
   "cell_type": "markdown",
   "metadata": {},
   "source": [
    "### 切片"
   ]
  },
  {
   "cell_type": "code",
   "execution_count": 23,
   "metadata": {},
   "outputs": [
    {
     "name": "stdout",
     "output_type": "stream",
     "text": [
      "cde\n",
      "ce\n",
      "abcde\n",
      "cdefg\n"
     ]
    }
   ],
   "source": [
    "str1 = 'abcdefg'\n",
    "print(str1[2:5])\n",
    "print(str1[2:5:2])\n",
    "print(str1[:5])\n",
    "print(str1[2:])"
   ]
  },
  {
   "cell_type": "code",
   "execution_count": 24,
   "metadata": {},
   "outputs": [
    {
     "name": "stdout",
     "output_type": "stream",
     "text": [
      "gfedcba\n"
     ]
    }
   ],
   "source": [
    "print(str1[: :-1]) #步长如果为负数 则倒序"
   ]
  },
  {
   "cell_type": "code",
   "execution_count": 27,
   "metadata": {},
   "outputs": [
    {
     "name": "stdout",
     "output_type": "stream",
     "text": [
      "def\n"
     ]
    }
   ],
   "source": [
    "print(str1[-4:-1])"
   ]
  },
  {
   "cell_type": "markdown",
   "metadata": {},
   "source": [
    "## 常用操作"
   ]
  },
  {
   "cell_type": "markdown",
   "metadata": {},
   "source": [
    "### 查找"
   ]
  },
  {
   "cell_type": "markdown",
   "metadata": {},
   "source": [
    "查找子串在字符串中的位置或者出现的次数\n",
    "1. rfind() 与find()功能相同，查找方向为右侧开始, find为左侧开始\n",
    "2. rindex() 与index()功能相同，查找方向为右侧开始\n",
    "3. count() 查找出现次数"
   ]
  },
  {
   "cell_type": "code",
   "execution_count": 40,
   "metadata": {},
   "outputs": [
    {
     "name": "stdout",
     "output_type": "stream",
     "text": [
      "12\n",
      "23\n",
      "-1\n",
      "35\n"
     ]
    }
   ],
   "source": [
    "# mystr.find(子串，开始位置，结束位置)\n",
    "mystr = 'hello world and itcast and itheima and Python'\n",
    "print(mystr.find('and'))\n",
    "print(mystr.find('and',15,30))\n",
    "print(mystr.find('ands')) #找不到返回-1\n",
    "print(mystr.rfind('and')) # 查找方向右侧开始"
   ]
  },
  {
   "cell_type": "code",
   "execution_count": 36,
   "metadata": {},
   "outputs": [
    {
     "name": "stdout",
     "output_type": "stream",
     "text": [
      "12\n",
      "23\n"
     ]
    }
   ],
   "source": [
    "print(mystr.index('and'))\n",
    "print(mystr.index('and',15,30))\n",
    "# print(mystr.index('ands')) index找不到报错"
   ]
  },
  {
   "cell_type": "code",
   "execution_count": 39,
   "metadata": {},
   "outputs": [
    {
     "name": "stdout",
     "output_type": "stream",
     "text": [
      "3\n",
      "1\n",
      "0\n"
     ]
    }
   ],
   "source": [
    "print(mystr.count('and'))\n",
    "print(mystr.count('and',15,30))\n",
    "print(mystr.count('ands'))"
   ]
  },
  {
   "cell_type": "markdown",
   "metadata": {},
   "source": [
    "### 修改"
   ]
  },
  {
   "cell_type": "code",
   "execution_count": 44,
   "metadata": {},
   "outputs": [
    {
     "name": "stdout",
     "output_type": "stream",
     "text": [
      "hello world he itcast he itheima he Python\n",
      "hello world and itcast and itheima and Python\n",
      "hello world he itcast and itheima and Python\n"
     ]
    }
   ],
   "source": [
    "#mystr.replace(旧，新，次数)\n",
    "mystr = 'hello world and itcast and itheima and Python'\n",
    "new_str = mystr.replace('and','he') #不会修改原有字符串\n",
    "print(new_str)\n",
    "print(mystr)\n",
    "print(mystr.replace('and','he',1))\n"
   ]
  },
  {
   "cell_type": "code",
   "execution_count": 49,
   "metadata": {},
   "outputs": [
    {
     "name": "stdout",
     "output_type": "stream",
     "text": [
      "['hello world ', ' itcast ', ' itheima ', ' Python']\n",
      "['hello world ', ' itcast ', ' itheima and Python']\n"
     ]
    }
   ],
   "source": [
    "#split(分割字符，num)会丢失分割字符\n",
    "print(mystr.split('and'))\n",
    "print(mystr.split('and',2))"
   ]
  },
  {
   "cell_type": "code",
   "execution_count": 52,
   "metadata": {},
   "outputs": [
    {
     "name": "stdout",
     "output_type": "stream",
     "text": [
      "aa...bb...cc\n"
     ]
    }
   ],
   "source": [
    "#join()合并\n",
    "#字符或子串.join（多字符串组成的序列）\n",
    "mylist = ['aa','bb','cc']\n",
    "new_str = '...'.join(mylist)\n",
    "print(new_str)"
   ]
  },
  {
   "cell_type": "markdown",
   "metadata": {},
   "source": [
    "### 大小写转换"
   ]
  },
  {
   "cell_type": "markdown",
   "metadata": {},
   "source": [
    "1. capitalize() 第一个字符大写\n",
    "2. title() 每个单词首字母大写\n",
    "3. lower() 大写转小写\n",
    "4. upper() 小写转大写"
   ]
  },
  {
   "cell_type": "code",
   "execution_count": 57,
   "metadata": {},
   "outputs": [
    {
     "name": "stdout",
     "output_type": "stream",
     "text": [
      "Hello world and itcast and itheima and python\n",
      "Hello World And Itcast And Itheima And Python\n",
      "hello world and itcast and itheima and python\n",
      "HELLO WORLD AND ITCAST AND ITHEIMA AND PYTHON\n"
     ]
    }
   ],
   "source": [
    "mystr = 'hello world and itcast and itheima and Python'\n",
    "print(mystr.capitalize())\n",
    "print(mystr.title())\n",
    "print(mystr.lower())\n",
    "print(mystr.upper())"
   ]
  },
  {
   "cell_type": "markdown",
   "metadata": {},
   "source": [
    "### 删除空白字符"
   ]
  },
  {
   "cell_type": "markdown",
   "metadata": {},
   "source": [
    "1. lstrip() 删除左侧空白字符\n",
    "2. rstrip() 删除右侧空白字符\n",
    "3. strip() 删除两侧空白字符"
   ]
  },
  {
   "cell_type": "code",
   "execution_count": 60,
   "metadata": {},
   "outputs": [
    {
     "name": "stdout",
     "output_type": "stream",
     "text": [
      "hello world and itcast and itheima and Python       \n",
      "       hello world and itcast and itheima and Python\n",
      "hello world and itcast and itheima and Python\n"
     ]
    }
   ],
   "source": [
    "mystr = '       hello world and itcast and itheima and Python       '\n",
    "print(mystr.lstrip())\n",
    "print(mystr.rstrip())\n",
    "print(mystr.strip())"
   ]
  },
  {
   "cell_type": "markdown",
   "metadata": {},
   "source": [
    "### 字符串对其"
   ]
  },
  {
   "cell_type": "code",
   "execution_count": 64,
   "metadata": {},
   "outputs": [
    {
     "name": "stdout",
     "output_type": "stream",
     "text": [
      "hello.....\n",
      ".....hello\n",
      "...hello...\n"
     ]
    }
   ],
   "source": [
    "#字符串序列.ljust(长度，填充字符) 左对其，并使用指定字符(默认空格)填充至指定长度\n",
    "mystr = 'hello'\n",
    "print(mystr.ljust(10,'.'))\n",
    "print(mystr.rjust(10,'.')) # 右对其\n",
    "print(mystr.center(11,'.')) # 中间对其"
   ]
  },
  {
   "cell_type": "markdown",
   "metadata": {},
   "source": [
    "### 判断字符串开头结尾"
   ]
  },
  {
   "cell_type": "code",
   "execution_count": 73,
   "metadata": {},
   "outputs": [
    {
     "name": "stdout",
     "output_type": "stream",
     "text": [
      "True\n",
      "False\n",
      "True\n",
      "False\n"
     ]
    }
   ],
   "source": [
    "# 字符串序列.startswith(子串，开始下标，结束下标)\n",
    "mystr = 'hello world and itcast and itheima and Python'\n",
    "print(mystr.startswith('hello'))\n",
    "print(mystr.startswith('hello',2,5))\n",
    "print(mystr.endswith('hon'))\n",
    "print(mystr.endswith('hon',2,20))"
   ]
  },
  {
   "cell_type": "markdown",
   "metadata": {},
   "source": [
    "1. isalpha() 字符串至少有一个字符，并且所有字符都是字母返回TRUE\n",
    "2. isdigit() 只包含数字返回TRUE\n",
    "3. isalnum() 都是字母或者数字返回TRUE\n",
    "4. isspace() 只有空格返回TRUE"
   ]
  },
  {
   "cell_type": "code",
   "execution_count": 77,
   "metadata": {},
   "outputs": [
    {
     "name": "stdout",
     "output_type": "stream",
     "text": [
      "True\n",
      "False\n",
      "False\n"
     ]
    }
   ],
   "source": [
    "mystr1 = 'hello'\n",
    "mystr2 = 'hello12345'\n",
    "mystr3 = '12345'\n",
    "mystr4 = '12345-'\n",
    "mystr5 = '    '\n",
    "print(mystr1.isalpha())\n",
    "print(mystr2.isalpha())\n",
    "print(mystr5.isalpha())"
   ]
  },
  {
   "cell_type": "code",
   "execution_count": 81,
   "metadata": {},
   "outputs": [
    {
     "name": "stdout",
     "output_type": "stream",
     "text": [
      "False\n",
      "False\n",
      "True\n",
      "False\n"
     ]
    }
   ],
   "source": [
    "print(mystr1.isdigit())\n",
    "print(mystr2.isdigit())\n",
    "print(mystr3.isdigit())\n",
    "print(mystr4.isdigit())"
   ]
  },
  {
   "cell_type": "code",
   "execution_count": 85,
   "metadata": {},
   "outputs": [
    {
     "name": "stdout",
     "output_type": "stream",
     "text": [
      "True\n",
      "True\n",
      "False\n"
     ]
    }
   ],
   "source": [
    "print(mystr1.isalnum())\n",
    "print(mystr2.isalnum())\n",
    "print(mystr4.isalnum())"
   ]
  },
  {
   "cell_type": "code",
   "execution_count": 87,
   "metadata": {},
   "outputs": [
    {
     "name": "stdout",
     "output_type": "stream",
     "text": [
      "False\n",
      "True\n"
     ]
    }
   ],
   "source": [
    "print(mystr1.isspace())\n",
    "print(mystr5.isspace())"
   ]
  },
  {
   "cell_type": "code",
   "execution_count": null,
   "metadata": {},
   "outputs": [],
   "source": []
  }
 ],
 "metadata": {
  "kernelspec": {
   "display_name": "Python 3",
   "language": "python",
   "name": "python3"
  },
  "language_info": {
   "codemirror_mode": {
    "name": "ipython",
    "version": 3
   },
   "file_extension": ".py",
   "mimetype": "text/x-python",
   "name": "python",
   "nbconvert_exporter": "python",
   "pygments_lexer": "ipython3",
   "version": "3.7.3"
  }
 },
 "nbformat": 4,
 "nbformat_minor": 2
}
