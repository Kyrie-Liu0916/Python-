{
 "cells": [
  {
   "cell_type": "markdown",
   "metadata": {},
   "source": [
    "# 面向对象-继承"
   ]
  },
  {
   "cell_type": "code",
   "execution_count": 46,
   "metadata": {},
   "outputs": [
    {
     "name": "stdout",
     "output_type": "stream",
     "text": [
      "1\n"
     ]
    }
   ],
   "source": [
    "#父类\n",
    "class A(object):\n",
    "    def __init__(self):\n",
    "        self.num = 1\n",
    "    def print_info(self):\n",
    "        print(self.num)\n",
    "class B(A):\n",
    "    pass\n",
    "result = B()\n",
    "result.print_info()"
   ]
  },
  {
   "cell_type": "markdown",
   "metadata": {},
   "source": [
    "## 单继承"
   ]
  },
  {
   "cell_type": "code",
   "execution_count": 47,
   "metadata": {},
   "outputs": [
    {
     "name": "stdout",
     "output_type": "stream",
     "text": [
      "[古法配方]\n",
      "运用[古法配方]制作\n"
     ]
    }
   ],
   "source": [
    "#师傅类\n",
    "class Master(object):\n",
    "    def __init__(self):\n",
    "        self.kongfu = '[古法配方]'\n",
    "    def make_cake(self):\n",
    "        print(f'运用{self.kongfu}制作')\n",
    "#徒弟类\n",
    "class Prentice(Master):\n",
    "    pass\n",
    "daqiu = Prentice()\n",
    "print(daqiu.kongfu)\n",
    "daqiu.make_cake()"
   ]
  },
  {
   "cell_type": "markdown",
   "metadata": {},
   "source": [
    "## 多继承"
   ]
  },
  {
   "cell_type": "code",
   "execution_count": 48,
   "metadata": {},
   "outputs": [
    {
     "name": "stdout",
     "output_type": "stream",
     "text": [
      "[古法配方]\n",
      "运用[古法配方]制作\n"
     ]
    }
   ],
   "source": [
    "class Master(object):\n",
    "    def __init__(self):\n",
    "        self.kongfu = '[古法配方]'\n",
    "    def make_cake(self):\n",
    "        print(f'运用{self.kongfu}制作')\n",
    "class School(object):\n",
    "    def __init__(self):\n",
    "        self.kongfu = '[黑马配方]'\n",
    "    def make_cake(self):\n",
    "        print(f'运用{self.kongfu}制作')\n",
    "#徒弟类\n",
    "class Prentice(Master, School):\n",
    "    pass\n",
    "daqiu = Prentice()\n",
    "print(daqiu.kongfu)\n",
    "daqiu.make_cake()\n",
    "# 有多个父类时， 默认使用第一个父类的属性和方法"
   ]
  },
  {
   "cell_type": "markdown",
   "metadata": {},
   "source": [
    "## 子类重写父类同名属性和方法"
   ]
  },
  {
   "cell_type": "code",
   "execution_count": 49,
   "metadata": {},
   "outputs": [
    {
     "name": "stdout",
     "output_type": "stream",
     "text": [
      "[独创配方]\n",
      "运用[独创配方]制作\n"
     ]
    }
   ],
   "source": [
    "class Master(object):\n",
    "    def __init__(self):\n",
    "        self.kongfu = '[古法配方]'\n",
    "    def make_cake(self):\n",
    "        print(f'运用{self.kongfu}制作')\n",
    "class School(object):\n",
    "    def __init__(self):\n",
    "        self.kongfu = '[黑马配方]'\n",
    "    def make_cake(self):\n",
    "        print(f'运用{self.kongfu}制作')\n",
    "        \n",
    "        \n",
    "class Prentice(School, Master):\n",
    "    def __init__(self):\n",
    "        self.kongfu = '[独创配方]'\n",
    "    def make_cake(self):\n",
    "        print(f'运用{self.kongfu}制作')\n",
    "daqiu = Prentice()\n",
    "print(daqiu.kongfu)\n",
    "daqiu.make_cake()"
   ]
  },
  {
   "cell_type": "code",
   "execution_count": 50,
   "metadata": {},
   "outputs": [
    {
     "name": "stdout",
     "output_type": "stream",
     "text": [
      "(<class '__main__.Prentice'>, <class '__main__.School'>, <class '__main__.Master'>, <class 'object'>)\n"
     ]
    }
   ],
   "source": [
    "print(Prentice.__mro__)\n",
    "#快速查看继承关系"
   ]
  },
  {
   "cell_type": "code",
   "execution_count": 51,
   "metadata": {},
   "outputs": [
    {
     "name": "stdout",
     "output_type": "stream",
     "text": [
      "运用[独创配方]制作\n",
      "运用[古法配方]制作\n",
      "运用[黑马配方]制作\n"
     ]
    }
   ],
   "source": [
    "class Master(object):\n",
    "    def __init__(self):\n",
    "        self.kongfu = '[古法配方]'\n",
    "    def make_cake(self):\n",
    "        print(f'运用{self.kongfu}制作')\n",
    "class School(object):\n",
    "    def __init__(self):\n",
    "        self.kongfu = '[黑马配方]'\n",
    "    def make_cake(self):\n",
    "        print(f'运用{self.kongfu}制作')\n",
    "        \n",
    "        \n",
    "class Prentice(School, Master):\n",
    "    def __init__(self):\n",
    "        self.kongfu = '[独创配方]'\n",
    "    def make_cake(self):\n",
    "        #初始化，如果父类先被调用，会被覆盖\n",
    "        self.__init__()\n",
    "        print(f'运用{self.kongfu}制作')\n",
    "    def make_master_cake(self):\n",
    "        Master.__init__(self)\n",
    "        #必须初始化，否则会被先调用的属性覆盖\n",
    "        Master.make_cake(self)\n",
    "    def make_school_cake(self):\n",
    "        School.__init__(self)\n",
    "        School.make_cake(self)\n",
    "daqiu = Prentice()\n",
    "daqiu.make_cake()\n",
    "daqiu.make_master_cake()\n",
    "daqiu.make_school_cake()"
   ]
  },
  {
   "cell_type": "markdown",
   "metadata": {},
   "source": [
    "## 多层继承"
   ]
  },
  {
   "cell_type": "code",
   "execution_count": 52,
   "metadata": {},
   "outputs": [
    {
     "name": "stdout",
     "output_type": "stream",
     "text": [
      "(<class '__main__.Tusun'>, <class '__main__.Prentice'>, <class '__main__.School'>, <class '__main__.Master'>, <class 'object'>)\n",
      "运用[独创配方]制作\n",
      "运用[古法配方]制作\n",
      "运用[黑马配方]制作\n"
     ]
    }
   ],
   "source": [
    "class Master(object):\n",
    "    def __init__(self):\n",
    "        self.kongfu = '[古法配方]'\n",
    "    def make_cake(self):\n",
    "        print(f'运用{self.kongfu}制作')\n",
    "class School(object):\n",
    "    def __init__(self):\n",
    "        self.kongfu = '[黑马配方]'\n",
    "    def make_cake(self):\n",
    "        print(f'运用{self.kongfu}制作')\n",
    "        \n",
    "        \n",
    "class Prentice(School, Master):\n",
    "    def __init__(self):\n",
    "        self.kongfu = '[独创配方]'\n",
    "    def make_cake(self):\n",
    "        #初始化，如果父类先被调用，会被覆盖\n",
    "        self.__init__()\n",
    "        print(f'运用{self.kongfu}制作')\n",
    "    def make_master_cake(self):\n",
    "        Master.__init__(self)\n",
    "        #必须初始化，否则会被先调用的属性覆盖\n",
    "        Master.make_cake(self)\n",
    "    def make_school_cake(self):\n",
    "        School.__init__(self)\n",
    "        School.make_cake(self)\n",
    "class Tusun(Prentice):\n",
    "    pass\n",
    "print(Tusun.__mro__)\n",
    "xiaoqiu = Tusun()\n",
    "xiaoqiu.make_cake()\n",
    "xiaoqiu.make_master_cake()\n",
    "xiaoqiu.make_school_cake()"
   ]
  },
  {
   "cell_type": "code",
   "execution_count": 63,
   "metadata": {},
   "outputs": [
    {
     "name": "stdout",
     "output_type": "stream",
     "text": [
      "运用[黑马配方]制作\n",
      "运用[古法配方]制作\n"
     ]
    }
   ],
   "source": [
    "class Master(object):\n",
    "    def __init__(self):\n",
    "        self.kongfu = '[古法配方]'\n",
    "    def make_cake(self):\n",
    "        print(f'运用{self.kongfu}制作')\n",
    "class School(Master):\n",
    "    def __init__(self):\n",
    "        self.kongfu = '[黑马配方]'\n",
    "    def make_cake(self):\n",
    "        print(f'运用{self.kongfu}制作')\n",
    "        #2.1\n",
    "#         super(School, self).__init__()\n",
    "#         super(School, self).make_cake()\n",
    "        #2.2\n",
    "        super().__init__()\n",
    "        super().make_cake()\n",
    "class Prentice(School):\n",
    "    def __init__(self):\n",
    "        self.kongfu = '[独创配方]'\n",
    "    def make_cake(self):\n",
    "        #初始化，如果父类先被调用，会被覆盖\n",
    "        self.__init__()\n",
    "        print(f'运用{self.kongfu}制作')\n",
    "    def make_master_cake(self):\n",
    "        Master.__init__(self)\n",
    "        #必须初始化，否则会被先调用的属性覆盖\n",
    "        Master.make_cake(self)\n",
    "    def make_school_cake(self):\n",
    "        School.__init__(self)\n",
    "        School.make_cake(self)\n",
    "    #一次性调用父类School，Master方法\n",
    "    def make_old_cake(self):\n",
    "#         School.__init__(self)\n",
    "#         School.make_cake(self)\n",
    "#         Master.__init__(self)\n",
    "#         Master.make_cake(self)\n",
    "        #super()方法2.1\n",
    "#         super(Prentice, self).__init__()\n",
    "#         super(Prentice, self).make_cake()\n",
    "        #2.2 无参数super()\n",
    "        super().__init__()\n",
    "        super().make_cake()\n",
    "daqiu = Prentice()\n",
    "daqiu.make_old_cake()"
   ]
  },
  {
   "cell_type": "code",
   "execution_count": 72,
   "metadata": {},
   "outputs": [
    {
     "name": "stdout",
     "output_type": "stream",
     "text": [
      "20000\n",
      "500\n"
     ]
    }
   ],
   "source": [
    "class Master(object):\n",
    "    def __init__(self):\n",
    "        self.kongfu = '[古法配方]'\n",
    "    def make_cake(self):\n",
    "        print(f'运用{self.kongfu}制作')\n",
    "class School(object):\n",
    "    def __init__(self):\n",
    "        self.kongfu = '[黑马配方]'\n",
    "    def make_cake(self):\n",
    "        print(f'运用{self.kongfu}制作')\n",
    "        \n",
    "        \n",
    "class Prentice(School, Master):\n",
    "    def __init__(self):\n",
    "        self.kongfu = '[独创配方]'\n",
    "        #定义私有属性\n",
    "        self.__money = 20000\n",
    "    def make_cake(self):\n",
    "        #初始化，如果父类先被调用，会被覆盖\n",
    "        self.__init__()\n",
    "        print(f'运用{self.kongfu}制作')\n",
    "    def make_master_cake(self):\n",
    "        Master.__init__(self)\n",
    "        #必须初始化，否则会被先调用的属性覆盖\n",
    "        Master.make_cake(self)\n",
    "    def make_school_cake(self):\n",
    "        School.__init__(self)\n",
    "        School.make_cake(self)\n",
    "    #定义私有方法\n",
    "    def __info_print(self):\n",
    "        print(self.kongfu)\n",
    "        print(self.__money)\n",
    "    #获取私有属性\n",
    "    def get_money(self):\n",
    "        return self.__money\n",
    "    #定义私有属性\n",
    "    def set_money(self):\n",
    "        self.__money = 500\n",
    "class Tusun(Prentice):\n",
    "    pass\n",
    "daqiu = Prentice()\n",
    "#对象不能访问私有属性和私有方法\n",
    "# print(daqiu.__money)\n",
    "# daqiu.__info_print()\n",
    "xiaoqiu = Tusun()\n",
    "#子类无法继承父类的私有属性和私有方法\n",
    "# print(xiaoqiu.__money)  #无法访问实例属性__money\n",
    "# xiaoqiu.__info_print()\n",
    "print(xiaoqiu.get_money())\n",
    "xiaoqiu.set_money()\n",
    "print(xiaoqiu.get_money())"
   ]
  },
  {
   "cell_type": "markdown",
   "metadata": {},
   "source": [
    "## 多态"
   ]
  },
  {
   "cell_type": "code",
   "execution_count": 74,
   "metadata": {},
   "outputs": [
    {
     "name": "stdout",
     "output_type": "stream",
     "text": [
      "追击敌人。。\n",
      "搜查毒品。。\n"
     ]
    }
   ],
   "source": [
    "class Dog(object):\n",
    "    def work(self):\n",
    "        print(\"指哪打哪。。\")# 父类提供公共方法 哪怕是空方法\n",
    "class Armydog(Dog):\n",
    "    def work(self):\n",
    "        print(\"追击敌人。。\")# 子类重写父类方法\n",
    "class Drugdog(Dog):\n",
    "    def work(self):\n",
    "        print(\"搜查毒品。。\")\n",
    "class Person(object):\n",
    "    def work_with_dog(self, dog):\n",
    "        dog.work()\n",
    "ad = Armydog()\n",
    "dd = Drugdog()\n",
    "daqiu = Person()\n",
    "daqiu.work_with_dog(ad)\n",
    "daqiu.work_with_dog(dd)"
   ]
  },
  {
   "cell_type": "markdown",
   "metadata": {},
   "source": [
    "## 类属性"
   ]
  },
  {
   "cell_type": "code",
   "execution_count": 76,
   "metadata": {},
   "outputs": [
    {
     "name": "stdout",
     "output_type": "stream",
     "text": [
      "10\n",
      "10\n",
      "10\n"
     ]
    }
   ],
   "source": [
    "class Dog(object):\n",
    "    # 类属性就是类对象的属性，被该类所有实例对象所共有\n",
    "    tooth = 10\n",
    "wangcai = Dog()\n",
    "xiaohei = Dog()\n",
    "#可以通过类对象或实例对象访问\n",
    "print(Dog.tooth)\n",
    "print(wangcai.tooth)\n",
    "print(xiaohei.tooth)"
   ]
  },
  {
   "cell_type": "code",
   "execution_count": 78,
   "metadata": {},
   "outputs": [
    {
     "name": "stdout",
     "output_type": "stream",
     "text": [
      "12\n",
      "12\n",
      "12\n",
      "12\n",
      "20\n",
      "12\n"
     ]
    }
   ],
   "source": [
    "class Dog(object):\n",
    "    tooth = 10\n",
    "wangcai = Dog()\n",
    "xiaohei = Dog()\n",
    "#修改类属性\n",
    "Dog.tooth = 12\n",
    "print(Dog.tooth)\n",
    "print(wangcai.tooth)\n",
    "print(xiaohei.tooth)\n",
    "\n",
    "#不能通过对象修改类属性，这样只是创建了一个实例属性\n",
    "wangcai.tooth = 20\n",
    "print(Dog.tooth)\n",
    "print(wangcai.tooth)\n",
    "print(xiaohei.tooth)"
   ]
  },
  {
   "cell_type": "markdown",
   "metadata": {},
   "source": [
    "## 类方法和静态方法"
   ]
  },
  {
   "cell_type": "code",
   "execution_count": 79,
   "metadata": {},
   "outputs": [
    {
     "name": "stdout",
     "output_type": "stream",
     "text": [
      "10\n"
     ]
    }
   ],
   "source": [
    "#当方法中需要使用类对象，如访问私有属性，定义类方法\n",
    "#类方法一般和类属性配合使用\n",
    "class Dog(object):\n",
    "    __tooth = 10\n",
    "    @classmethod\n",
    "    def get_tooth(cls):\n",
    "        return cls.__tooth\n",
    "wangcai = Dog()\n",
    "result = wangcai.get_tooth()\n",
    "print(result)"
   ]
  },
  {
   "cell_type": "code",
   "execution_count": 80,
   "metadata": {},
   "outputs": [
    {
     "name": "stdout",
     "output_type": "stream",
     "text": [
      "....\n",
      "....\n"
     ]
    }
   ],
   "source": [
    "#静态方法\n",
    "class Dog(object):\n",
    "    @staticmethod\n",
    "    def info_print():\n",
    "        print('....')\n",
    "wangcai = Dog()\n",
    "#静态方法既可以使用类访问，也可以使用对象访问\n",
    "wangcai.info_print()\n",
    "Dog.info_print()"
   ]
  },
  {
   "cell_type": "code",
   "execution_count": null,
   "metadata": {},
   "outputs": [],
   "source": []
  }
 ],
 "metadata": {
  "kernelspec": {
   "display_name": "Python 3",
   "language": "python",
   "name": "python3"
  },
  "language_info": {
   "codemirror_mode": {
    "name": "ipython",
    "version": 3
   },
   "file_extension": ".py",
   "mimetype": "text/x-python",
   "name": "python",
   "nbconvert_exporter": "python",
   "pygments_lexer": "ipython3",
   "version": "3.7.3"
  }
 },
 "nbformat": 4,
 "nbformat_minor": 2
}
